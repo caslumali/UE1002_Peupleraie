{
 "cells": [
  {
   "cell_type": "markdown",
   "metadata": {},
   "source": [
    "### **1. Paramètres**"
   ]
  },
  {
   "cell_type": "code",
   "execution_count": 2,
   "metadata": {},
   "outputs": [],
   "source": [
    "# Importation des bibliothèques\n",
    "import os\n",
    "import pandas as pd\n",
    "import numpy as np\n",
    "import matplotlib.pyplot as plt\n",
    "from matplotlib.backends.backend_pdf import PdfPages\n",
    "\n",
    "from functions_plot_lucas import top_cultivars, boxnotch_cultivar"
   ]
  },
  {
   "cell_type": "code",
   "execution_count": 3,
   "metadata": {},
   "outputs": [],
   "source": [
    "# Chemin vers les fichiers\n",
    "csv_path = '../data_final/tableaux/'\n",
    "output_path = '../rapport/boxnotch/confidenceXage'\n",
    "\n",
    "# Vérifier si le dossier de sortie existe ; le créer si nécessaire\n",
    "if not os.path.exists(output_path):\n",
    "    os.makedirs(output_path)\n",
    "\n",
    "# Lire le fichier CSV\n",
    "df_px_filtre_dept10 = pd.read_csv(os.path.join(csv_path, 'df_px_filtre_dept10.csv'), dtype={'id_parc': str})"
   ]
  },
  {
   "cell_type": "markdown",
   "metadata": {},
   "source": [
    "### **2. Faire les boxplots**"
   ]
  },
  {
   "cell_type": "code",
   "execution_count": 4,
   "metadata": {},
   "outputs": [
    {
     "name": "stdout",
     "output_type": "stream",
     "text": [
      "Nombre de cultivars sélectionnés: 18\n",
      "Koster: 10764 pixels\n",
      "Polargo: 7728 pixels\n",
      "I214: 7655 pixels\n",
      "I45/51: 5073 pixels\n",
      "Soligo: 3940 pixels\n",
      "Flevo: 3499 pixels\n",
      "Dorskamp: 2608 pixels\n",
      "Raspalje: 2459 pixels\n",
      "Triplo: 1370 pixels\n",
      "Albelo: 1031 pixels\n",
      "Alcinde: 886 pixels\n",
      "Diva: 500 pixels\n",
      "Tucano: 300 pixels\n",
      "Senna: 294 pixels\n",
      "San Martino: 284 pixels\n",
      "Aleramo: 177 pixels\n",
      "Moncalvo: 171 pixels\n",
      "Rona: 160 pixels\n"
     ]
    }
   ],
   "source": [
    "# Faire un dicitonnaires avec les cultivars principaux\n",
    "dict_top_cultivars = top_cultivars(df_px_filtre_dept10)\n",
    "print(f\"Nombre de cultivars sélectionnés: {len(dict_top_cultivars)}\")\n",
    "\n",
    "# Imprimer les cultivars triés par nombre de pixels\n",
    "for cultivar, count in dict_top_cultivars.items():\n",
    "    print(f\"{cultivar}: {count} pixels\")"
   ]
  },
  {
   "cell_type": "code",
   "execution_count": 5,
   "metadata": {},
   "outputs": [],
   "source": [
    "# Prendre juste les tops cultivar  pour faire les boxplots\n",
    "df_px_filtre_dept10 = df_px_filtre_dept10[df_px_filtre_dept10['cultivar_n'].isin(dict_top_cultivars)]\n",
    "df_px_filtre_dept10 = df_px_filtre_dept10[(df_px_filtre_dept10['age_plan'] >= 1) & (df_px_filtre_dept10['age_plan'] <= 12)]\n",
    "df_px_filtre_dept10['age_plan'] = df_px_filtre_dept10['age_plan'].astype(int)"
   ]
  },
  {
   "cell_type": "code",
   "execution_count": 6,
   "metadata": {},
   "outputs": [],
   "source": [
    "# Obtenir toutes les valeurs uniques de la colonne 'source' dans le DataFrame filtré\n",
    "unique_sources = df_px_filtre_dept10['source'].unique()\n",
    "\n",
    "# Générer une palette de couleurs avec 'tab10' pour chaque valeur unique de 'source'\n",
    "source_colors = plt.cm.tab10(np.linspace(0, 1, len(unique_sources)))\n",
    "source_color_map = dict(zip(unique_sources, source_colors))"
   ]
  },
  {
   "cell_type": "code",
   "execution_count": 7,
   "metadata": {},
   "outputs": [
    {
     "name": "stdout",
     "output_type": "stream",
     "text": [
      "Boxplot pour le cultivar 'Koster' sauvegardé sous le nom '01_Koster.png'.\n",
      "Boxplot pour le cultivar 'Polargo' sauvegardé sous le nom '02_Polargo.png'.\n",
      "Boxplot pour le cultivar 'I214' sauvegardé sous le nom '03_I214.png'.\n",
      "Boxplot pour le cultivar 'I45/51' sauvegardé sous le nom '04_I45_51.png'.\n",
      "Boxplot pour le cultivar 'Soligo' sauvegardé sous le nom '05_Soligo.png'.\n",
      "Boxplot pour le cultivar 'Flevo' sauvegardé sous le nom '06_Flevo.png'.\n",
      "Boxplot pour le cultivar 'Dorskamp' sauvegardé sous le nom '07_Dorskamp.png'.\n",
      "Boxplot pour le cultivar 'Raspalje' sauvegardé sous le nom '08_Raspalje.png'.\n",
      "Boxplot pour le cultivar 'Triplo' sauvegardé sous le nom '09_Triplo.png'.\n",
      "Boxplot pour le cultivar 'Albelo' sauvegardé sous le nom '10_Albelo.png'.\n",
      "Boxplot pour le cultivar 'Alcinde' sauvegardé sous le nom '11_Alcinde.png'.\n",
      "Boxplot pour le cultivar 'Diva' sauvegardé sous le nom '12_Diva.png'.\n",
      "Boxplot pour le cultivar 'Tucano' sauvegardé sous le nom '13_Tucano.png'.\n",
      "Boxplot pour le cultivar 'Senna' sauvegardé sous le nom '14_Senna.png'.\n",
      "Boxplot pour le cultivar 'San Martino' sauvegardé sous le nom '15_San Martino.png'.\n",
      "Boxplot pour le cultivar 'Aleramo' sauvegardé sous le nom '16_Aleramo.png'.\n",
      "Boxplot pour le cultivar 'Moncalvo' sauvegardé sous le nom '17_Moncalvo.png'.\n",
      "Boxplot pour le cultivar 'Rona' sauvegardé sous le nom '18_Rona.png'.\n"
     ]
    }
   ],
   "source": [
    "# Boucle pour tracer et sauvegarder un boxplot pour chaque cultivar et ensuite les sauvegarder en un seul PDF\n",
    "images_paths = []\n",
    "\n",
    "for index, cultivar in enumerate(dict_top_cultivars, start=1):\n",
    "    boxnotch_cultivar(df_px_filtre_dept10, cultivar, index, output_path, color_map=source_color_map)\n",
    "    cultivar_safe = cultivar.replace(\"/\", \"_\")\n",
    "    images_paths.append(os.path.join(output_path, f\"{index:02d}_{cultivar_safe}.png\"))"
   ]
  },
  {
   "cell_type": "code",
   "execution_count": 8,
   "metadata": {},
   "outputs": [
    {
     "name": "stdout",
     "output_type": "stream",
     "text": [
      "Boxplot pour le cultivar 'Koster' sauvegardé sous le nom '01_Koster.png'.\n",
      "Boxplot pour le cultivar 'Polargo' sauvegardé sous le nom '02_Polargo.png'.\n",
      "Boxplot pour le cultivar 'I214' sauvegardé sous le nom '03_I214.png'.\n",
      "Boxplot pour le cultivar 'I45/51' sauvegardé sous le nom '04_I45_51.png'.\n",
      "Boxplot pour le cultivar 'Soligo' sauvegardé sous le nom '05_Soligo.png'.\n",
      "Boxplot pour le cultivar 'Flevo' sauvegardé sous le nom '06_Flevo.png'.\n",
      "Boxplot pour le cultivar 'Dorskamp' sauvegardé sous le nom '07_Dorskamp.png'.\n",
      "Boxplot pour le cultivar 'Raspalje' sauvegardé sous le nom '08_Raspalje.png'.\n",
      "Boxplot pour le cultivar 'Triplo' sauvegardé sous le nom '09_Triplo.png'.\n",
      "Boxplot pour le cultivar 'Albelo' sauvegardé sous le nom '10_Albelo.png'.\n",
      "Boxplot pour le cultivar 'Alcinde' sauvegardé sous le nom '11_Alcinde.png'.\n",
      "Boxplot pour le cultivar 'Diva' sauvegardé sous le nom '12_Diva.png'.\n",
      "Boxplot pour le cultivar 'Tucano' sauvegardé sous le nom '13_Tucano.png'.\n",
      "Boxplot pour le cultivar 'Senna' sauvegardé sous le nom '14_Senna.png'.\n",
      "Boxplot pour le cultivar 'San Martino' sauvegardé sous le nom '15_San Martino.png'.\n",
      "Boxplot pour le cultivar 'Aleramo' sauvegardé sous le nom '16_Aleramo.png'.\n",
      "Boxplot pour le cultivar 'Moncalvo' sauvegardé sous le nom '17_Moncalvo.png'.\n",
      "Boxplot pour le cultivar 'Rona' sauvegardé sous le nom '18_Rona.png'.\n",
      "PDF combiné avec tous les boxplots sauvegardé avec succès.\n"
     ]
    }
   ],
   "source": [
    "# # Création d'un fichier PDF combinant tous les boxplots déjà existants\n",
    "with PdfPages(os.path.join(output_path, \"Boxnotch_confidenceXage.pdf\")) as pdf:\n",
    "    for index, cultivar in enumerate(dict_top_cultivars, start=1):\n",
    "        boxnotch_cultivar(df_px_filtre_dept10, cultivar, index, output_path, color_map=source_color_map, pdf=pdf)\n",
    "\n",
    "print(\"PDF combiné avec tous les boxplots sauvegardé avec succès.\")"
   ]
  }
 ],
 "metadata": {
  "kernelspec": {
   "display_name": "peuplier",
   "language": "python",
   "name": "python3"
  },
  "language_info": {
   "codemirror_mode": {
    "name": "ipython",
    "version": 3
   },
   "file_extension": ".py",
   "mimetype": "text/x-python",
   "name": "python",
   "nbconvert_exporter": "python",
   "pygments_lexer": "ipython3",
   "version": "3.10.16"
  }
 },
 "nbformat": 4,
 "nbformat_minor": 2
}
