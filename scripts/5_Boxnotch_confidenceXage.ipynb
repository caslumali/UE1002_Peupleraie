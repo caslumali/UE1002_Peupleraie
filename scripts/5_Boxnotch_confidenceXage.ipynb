{
 "cells": [
  {
   "cell_type": "markdown",
   "metadata": {},
   "source": [
    "### **1. Paramètres**"
   ]
  },
  {
   "cell_type": "code",
   "execution_count": 1,
   "metadata": {},
   "outputs": [],
   "source": [
    "# Importation des bibliothèques\n",
    "import os\n",
    "import pandas as pd\n",
    "import numpy as np\n",
    "import matplotlib.pyplot as plt\n",
    "from matplotlib.backends.backend_pdf import PdfPages\n",
    "\n",
    "from functions_plots import top_cultivars, boxnotch_confidenceXage, grid_boxnotch_confidenceXage_par_anne"
   ]
  },
  {
   "cell_type": "code",
   "execution_count": 2,
   "metadata": {},
   "outputs": [],
   "source": [
    "# Chemin vers les fichiers\n",
    "csv_path = '../data_final/tableaux/'\n",
    "output_path = '../results/1_confidenceXage'\n",
    "output_path_par_annee = '../results/2_confidenceXage_par_annee'\n",
    "\n",
    "# Vérifier si le dossier de sortie existe ; le créer si nécessaire\n",
    "if not os.path.exists(output_path):\n",
    "    os.makedirs(output_path)\n",
    "\n",
    "if not os.path.exists(output_path_par_annee):\n",
    "    os.makedirs(output_path_par_annee)\n",
    "\n",
    "# Lire le fichier CSV\n",
    "df_px_filtre_dept10 = pd.read_csv(os.path.join(csv_path, 'df_pixel_filtre_dept10.csv'), dtype={'id_parc': str})"
   ]
  },
  {
   "cell_type": "markdown",
   "metadata": {},
   "source": [
    "### **2. Faire les boxnotchs pour tous cultivars confundus**"
   ]
  },
  {
   "cell_type": "code",
   "execution_count": 3,
   "metadata": {},
   "outputs": [],
   "source": [
    "# Obtenir toutes les valeurs uniques de la colonne 'source' dans le DataFrame filtré\n",
    "unique_sources = df_px_filtre_dept10['source'].unique()\n",
    "\n",
    "# Générer une palette de couleurs avec 'tab10' pour chaque valeur unique de 'source'\n",
    "source_colors = plt.cm.tab10(np.linspace(0, 1, len(unique_sources)))\n",
    "source_color_map = dict(zip(unique_sources, source_colors))"
   ]
  },
  {
   "cell_type": "code",
   "execution_count": 4,
   "metadata": {},
   "outputs": [],
   "source": [
    "# Filtre pour les 12 premières années\n",
    "df_px_filtre_dept10_all = df_px_filtre_dept10[(df_px_filtre_dept10['age_plan'] >= 1) & (df_px_filtre_dept10['age_plan'] <= 12)]"
   ]
  },
  {
   "cell_type": "code",
   "execution_count": 5,
   "metadata": {},
   "outputs": [
    {
     "name": "stdout",
     "output_type": "stream",
     "text": [
      "Graphique sauvegardé sous le nom '00_All_Cultivars.png'.\n",
      "PDF pour tous les cultivars combinés sauvegardé : ../results/1_confidenceXage\\Boxnotch_confidenceXage_all.pdf\n"
     ]
    }
   ],
   "source": [
    "# Création d'un fichier PDF combinant tous les boxplots déjà existants\n",
    "pdf_path_all = os.path.join(output_path, \"Boxnotch_confidenceXage_all.pdf\")\n",
    "with PdfPages(pdf_path_all) as pdf:\n",
    "    boxnotch_confidenceXage(\n",
    "        df=df_px_filtre_dept10,  # Utiliser tout le DataFrame\n",
    "        cultivar=None,  # Spécifier que c'est pour tous les cultivars combinés\n",
    "        index=0,  # Indiquer un index fixe pour tous les cultivars\n",
    "        output_path=output_path,\n",
    "        color_map=source_color_map,\n",
    "        pdf=pdf\n",
    "    )\n",
    "\n",
    "print(f\"PDF pour tous les cultivars combinés sauvegardé : {pdf_path_all}\")"
   ]
  },
  {
   "cell_type": "markdown",
   "metadata": {},
   "source": [
    "### **3. Faire les boxnotchs par cultivar**"
   ]
  },
  {
   "cell_type": "code",
   "execution_count": 6,
   "metadata": {},
   "outputs": [
    {
     "name": "stdout",
     "output_type": "stream",
     "text": [
      "Nombre de cultivars sélectionnés: 18\n",
      "Koster: 10764 pixels\n",
      "Polargo: 7728 pixels\n",
      "I214: 7655 pixels\n",
      "I45/51: 5073 pixels\n",
      "Soligo: 3940 pixels\n",
      "Flevo: 3499 pixels\n",
      "Dorskamp: 2608 pixels\n",
      "Raspalje: 2459 pixels\n",
      "Triplo: 1370 pixels\n",
      "Albelo: 1031 pixels\n",
      "Alcinde: 886 pixels\n",
      "Diva: 500 pixels\n",
      "Tucano: 300 pixels\n",
      "Senna: 294 pixels\n",
      "San Martino: 284 pixels\n",
      "Aleramo: 177 pixels\n",
      "Moncalvo: 171 pixels\n",
      "Rona: 160 pixels\n"
     ]
    }
   ],
   "source": [
    "# Faire un dicitonnaires avec les cultivars principaux\n",
    "dict_top_cultivars = top_cultivars(df_px_filtre_dept10)\n",
    "print(f\"Nombre de cultivars sélectionnés: {len(dict_top_cultivars)}\")\n",
    "\n",
    "# Imprimer les cultivars triés par nombre de pixels\n",
    "for cultivar, count in dict_top_cultivars.items():\n",
    "    print(f\"{cultivar}: {count} pixels\")"
   ]
  },
  {
   "cell_type": "code",
   "execution_count": 7,
   "metadata": {},
   "outputs": [],
   "source": [
    "# Filtrer le DataFrame pour les cultivars principaux\n",
    "df_px_filtre_dept10_top = df_px_filtre_dept10[\n",
    "    df_px_filtre_dept10['cultivar_n'].isin(dict_top_cultivars)\n",
    "]"
   ]
  },
  {
   "cell_type": "code",
   "execution_count": 8,
   "metadata": {},
   "outputs": [
    {
     "name": "stdout",
     "output_type": "stream",
     "text": [
      "Graphique sauvegardé sous le nom '01_Koster.png'.\n",
      "Graphique sauvegardé sous le nom '02_Polargo.png'.\n",
      "Graphique sauvegardé sous le nom '03_I214.png'.\n",
      "Graphique sauvegardé sous le nom '04_I45_51.png'.\n",
      "Graphique sauvegardé sous le nom '05_Soligo.png'.\n",
      "Graphique sauvegardé sous le nom '06_Flevo.png'.\n",
      "Graphique sauvegardé sous le nom '07_Dorskamp.png'.\n",
      "Graphique sauvegardé sous le nom '08_Raspalje.png'.\n",
      "Graphique sauvegardé sous le nom '09_Triplo.png'.\n",
      "Graphique sauvegardé sous le nom '10_Albelo.png'.\n",
      "Graphique sauvegardé sous le nom '11_Alcinde.png'.\n",
      "Graphique sauvegardé sous le nom '12_Diva.png'.\n",
      "Graphique sauvegardé sous le nom '13_Tucano.png'.\n",
      "Graphique sauvegardé sous le nom '14_Senna.png'.\n",
      "Graphique sauvegardé sous le nom '15_San Martino.png'.\n",
      "Graphique sauvegardé sous le nom '16_Aleramo.png'.\n",
      "Graphique sauvegardé sous le nom '17_Moncalvo.png'.\n",
      "Graphique sauvegardé sous le nom '18_Rona.png'.\n",
      "PDF pour les cultivars principaux sauvegardé : ../results/1_confidenceXage\\Boxnotch_confidenceXage_top_cultivars.pdf\n"
     ]
    }
   ],
   "source": [
    "# Générer les boxplots pour chaque cultivar\n",
    "pdf_path_top = os.path.join(output_path, \"Boxnotch_confidenceXage_top_cultivars.pdf\")\n",
    "with PdfPages(pdf_path_top) as pdf:\n",
    "    for index, cultivar in enumerate(dict_top_cultivars, start=1):\n",
    "        boxnotch_confidenceXage(\n",
    "            df=df_px_filtre_dept10_top,\n",
    "            cultivar=cultivar,\n",
    "            index=index,  # Utiliser l'index basé sur le cultivar\n",
    "            output_path=output_path,\n",
    "            color_map=source_color_map,\n",
    "            pdf=pdf\n",
    "        )\n",
    "print(f\"PDF pour les cultivars principaux sauvegardé : {pdf_path_top}\")"
   ]
  },
  {
   "cell_type": "markdown",
   "metadata": {},
   "source": [
    "### **4. Faire le grid pour tracer le boxnotchs par cultivar par année**"
   ]
  },
  {
   "cell_type": "code",
   "execution_count": 9,
   "metadata": {},
   "outputs": [],
   "source": [
    "# Définir une palette de couleurs pour chaque année\n",
    "color_palette = {\n",
    "    2017: \"skyblue\", 2018: \"orange\", 2019: \"green\",\n",
    "    2020: \"red\", 2021: \"purple\", 2022: \"brown\"\n",
    "}"
   ]
  },
  {
   "cell_type": "code",
   "execution_count": 10,
   "metadata": {},
   "outputs": [
    {
     "name": "stdout",
     "output_type": "stream",
     "text": [
      "Grille de boxplots pour le cultivar 'Koster' sauvegardée sous le nom '01_Koster_grille.png'.\n",
      "Grille de boxplots pour le cultivar 'Polargo' sauvegardée sous le nom '02_Polargo_grille.png'.\n",
      "Grille de boxplots pour le cultivar 'I214' sauvegardée sous le nom '03_I214_grille.png'.\n",
      "Grille de boxplots pour le cultivar 'I45/51' sauvegardée sous le nom '04_I45_51_grille.png'.\n",
      "Grille de boxplots pour le cultivar 'Soligo' sauvegardée sous le nom '05_Soligo_grille.png'.\n",
      "Grille de boxplots pour le cultivar 'Flevo' sauvegardée sous le nom '06_Flevo_grille.png'.\n",
      "Grille de boxplots pour le cultivar 'Dorskamp' sauvegardée sous le nom '07_Dorskamp_grille.png'.\n",
      "Grille de boxplots pour le cultivar 'Raspalje' sauvegardée sous le nom '08_Raspalje_grille.png'.\n",
      "Grille de boxplots pour le cultivar 'Triplo' sauvegardée sous le nom '09_Triplo_grille.png'.\n",
      "Grille de boxplots pour le cultivar 'Albelo' sauvegardée sous le nom '10_Albelo_grille.png'.\n",
      "Grille de boxplots pour le cultivar 'Alcinde' sauvegardée sous le nom '11_Alcinde_grille.png'.\n",
      "Grille de boxplots pour le cultivar 'Diva' sauvegardée sous le nom '12_Diva_grille.png'.\n",
      "Grille de boxplots pour le cultivar 'Tucano' sauvegardée sous le nom '13_Tucano_grille.png'.\n",
      "Grille de boxplots pour le cultivar 'Senna' sauvegardée sous le nom '14_Senna_grille.png'.\n",
      "Grille de boxplots pour le cultivar 'San Martino' sauvegardée sous le nom '15_San Martino_grille.png'.\n",
      "Grille de boxplots pour le cultivar 'Aleramo' sauvegardée sous le nom '16_Aleramo_grille.png'.\n",
      "Grille de boxplots pour le cultivar 'Moncalvo' sauvegardée sous le nom '17_Moncalvo_grille.png'.\n",
      "Grille de boxplots pour le cultivar 'Rona' sauvegardée sous le nom '18_Rona_grille.png'.\n",
      "PDF combiné avec tous les boxplots sauvegardé avec succès.\n"
     ]
    }
   ],
   "source": [
    "# Création d'un fichier PDF combinant tous les boxplots\n",
    "with PdfPages(os.path.join(output_path_par_annee, \"Boxnotch_confidenceXage_par_annee.pdf\")) as pdf:\n",
    "    for index, cultivar in enumerate(dict_top_cultivars, start=1):\n",
    "        grid_boxnotch_confidenceXage_par_anne(df=df_px_filtre_dept10_top,\n",
    "                                              cultivar=cultivar,\n",
    "                                              output_path=output_path_par_annee,\n",
    "                                              color_palette=color_palette,\n",
    "                                              index=index,\n",
    "                                              pdf=pdf)\n",
    "\n",
    "print(\"PDF combiné avec tous les boxplots sauvegardé avec succès.\")\n"
   ]
  }
 ],
 "metadata": {
  "kernelspec": {
   "display_name": "peuplier",
   "language": "python",
   "name": "python3"
  },
  "language_info": {
   "codemirror_mode": {
    "name": "ipython",
    "version": 3
   },
   "file_extension": ".py",
   "mimetype": "text/x-python",
   "name": "python",
   "nbconvert_exporter": "python",
   "pygments_lexer": "ipython3",
   "version": "3.10.16"
  }
 },
 "nbformat": 4,
 "nbformat_minor": 2
}
