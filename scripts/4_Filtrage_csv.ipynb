{
 "cells": [
  {
   "cell_type": "markdown",
   "metadata": {},
   "source": [
    "### **1. Paramètres**"
   ]
  },
  {
   "cell_type": "code",
   "execution_count": 10,
   "metadata": {},
   "outputs": [],
   "source": [
    "# Importation des bibliothèques\n",
    "import os\n",
    "import pandas as pd"
   ]
  },
  {
   "cell_type": "code",
   "execution_count": 11,
   "metadata": {},
   "outputs": [],
   "source": [
    "# Chemin vers les fichiers\n",
    "csv_path = '../data_final/tableaux/'\n",
    "\n",
    "# Lire le fichier CSV\n",
    "df_px = pd.read_csv(os.path.join(csv_path, 'df_pixel.csv'), dtype={'id_parc': str})"
   ]
  },
  {
   "cell_type": "markdown",
   "metadata": {},
   "source": [
    "### **2. Filtrage des pixels du Dept10**"
   ]
  },
  {
   "cell_type": "code",
   "execution_count": 12,
   "metadata": {},
   "outputs": [
    {
     "name": "stdout",
     "output_type": "stream",
     "text": [
      "Quantité px.csv original : 77617\n",
      "Quantité px après exclusion des coordonnées spécifiques : 77609\n",
      "Quantité px après exclusion des `unique_id` marqués comme Non : 72260\n",
      "Quantité px après application des critères spécifiques : 71453\n",
      "Quantité px finale : 71453\n",
      "\n",
      "Fichier filtré sauvegardé sous : ../data_final/tableaux/\n"
     ]
    }
   ],
   "source": [
    "# Liste des pixels à exclure par coordonnées (x, y)\n",
    "pixels_to_exclude = [\n",
    "    (736105, 6824467.46),\n",
    "    (736115, 6824467.46),\n",
    "    (736125, 6824467.46),\n",
    "    (736785, 6824337.46),\n",
    "    (736795, 6824337.46),\n",
    "    (736805, 6824337.46)\n",
    "]\n",
    "\n",
    "# Liste des `unique_id` à exclure complètement\n",
    "exclude_unique_ids = [\n",
    "    \"dep10_4\", \"dep10_5\", \"dep10_6\", \"dep10_8\", \"dep10_9\", \"dep10_14\", \"dep10_17\",\n",
    "    \"dep10_18\", \"dep10_19\", \"dep10_20\", \"dep10_21\", \"dep10_24\", \"dep10_27\", \"dep10_29\",\n",
    "    \"dep10_33\", \"dep10_35\", \"dep10_38\", \"dep10_40\", \"dep10_41\", \"dep10_42\", \"dep10_45\",\n",
    "    \"dep10_48\", \"dep10_49\", \"dep10_50\", \"dep10_51\", \"dep10_52\", \"dep10_57\", \"dep10_59\",\n",
    "    \"dep10_69\", \"dep10_71\", \"dep10_83\", \"dep10_87\"\n",
    "]\n",
    "\n",
    "# Critères spécifiques pour certains `unique_id`\n",
    "criteria = {\n",
    "    \"dep10_15\": lambda row: row['date'] <= 2019,\n",
    "    \"dep10_65\": lambda row: row['date'] <= 2019,\n",
    "    \"dep10_66\": lambda row: row['date'] <= 2019,\n",
    "    \"dep10_77\": lambda row: row['date'] <= 2019\n",
    "}\n",
    "\n",
    "# Quantité initiale\n",
    "quantite_original = len(df_px)\n",
    "\n",
    "# Supprimer les pixels selon les coordonnées\n",
    "df_px_filtre_dept10 = df_px[~df_px[[\"x\", \"y\"]].apply(tuple, axis=1).isin(pixels_to_exclude)]\n",
    "quantite_apres_coord = len(df_px_filtre_dept10)\n",
    "\n",
    "# Supprimer les pixels selon `unique_id` marqué comme `Non`\n",
    "df_px_filtre_dept10 = df_px_filtre_dept10[~df_px_filtre_dept10[\"unique_id\"].isin(exclude_unique_ids)]\n",
    "quantite_apres_unique_id = len(df_px_filtre_dept10)\n",
    "\n",
    "# Supprimer selon les critères spécifiques\n",
    "for uid, condition in criteria.items():\n",
    "    df_px_filtre_dept10 = df_px_filtre_dept10[~(\n",
    "        (df_px_filtre_dept10[\"unique_id\"] == uid) &\n",
    "        (df_px_filtre_dept10.apply(condition, axis=1))\n",
    "    )]\n",
    "quantite_apres_criteres = len(df_px_filtre_dept10)\n",
    "\n",
    "# Quantité finale après filtrage\n",
    "quantite_finale = len(df_px_filtre_dept10)\n",
    "\n",
    "# Afficher les résultats\n",
    "print(f\"Quantité px.csv original : {quantite_original}\")\n",
    "print(f\"Quantité px après exclusion des coordonnées spécifiques : {quantite_apres_coord}\")\n",
    "print(f\"Quantité px après exclusion des `unique_id` marqués comme Non : {quantite_apres_unique_id}\")\n",
    "print(f\"Quantité px après application des critères spécifiques : {quantite_apres_criteres}\")\n",
    "print(f\"Quantité px finale : {quantite_finale}\")\n",
    "\n",
    "# Option pour sauvegarder le fichier final si nécessaire\n",
    "df_px_filtre_dept10.to_csv(os.path.join(csv_path, 'df_px_filtre_dept10.csv'), index=False)\n",
    "print(f\"\\nFichier filtré sauvegardé sous : {csv_path}\")"
   ]
  },
  {
   "cell_type": "markdown",
   "metadata": {},
   "source": [
    "### **3. Filtrage pour les métriques lidar**"
   ]
  },
  {
   "cell_type": "code",
   "execution_count": 13,
   "metadata": {},
   "outputs": [
    {
     "name": "stdout",
     "output_type": "stream",
     "text": [
      "Quantité initiale (df_px_filtre_dept10) : 71453\n",
      "Quantité après filtrage (df_px_filtre_lidar) : 10111\n",
      "\n",
      "Fichier filtré sauvegardé sous : ../data_final/tableaux/\n"
     ]
    }
   ],
   "source": [
    "# Filtrer les pixels où 'lidar_date' est égal à 'date'\n",
    "df_px_filtre_lidar = df_px_filtre_dept10[df_px_filtre_dept10['lidar_date'] == df_px_filtre_dept10['date']]\n",
    "\n",
    "# Quantité après filtrage\n",
    "quantite_original = len(df_px_filtre_dept10)\n",
    "quantite_filtre = len(df_px_filtre_lidar)\n",
    "\n",
    "# Afficher les résultats\n",
    "print(f\"Quantité initiale (df_px_filtre_dept10) : {quantite_original}\")\n",
    "print(f\"Quantité après filtrage (df_px_filtre_lidar) : {quantite_filtre}\")\n",
    "\n",
    "# Sauvegarder le DataFrame filtré en CSV\n",
    "df_px_filtre_lidar.to_csv(os.path.join(csv_path, 'df_px_filtre_lidar.csv'), index=False)\n",
    "\n",
    "print(f\"\\nFichier filtré sauvegardé sous : {csv_path}\")\n"
   ]
  }
 ],
 "metadata": {
  "kernelspec": {
   "display_name": "peuplier",
   "language": "python",
   "name": "python3"
  },
  "language_info": {
   "codemirror_mode": {
    "name": "ipython",
    "version": 3
   },
   "file_extension": ".py",
   "mimetype": "text/x-python",
   "name": "python",
   "nbconvert_exporter": "python",
   "pygments_lexer": "ipython3",
   "version": "3.10.16"
  }
 },
 "nbformat": 4,
 "nbformat_minor": 2
}
