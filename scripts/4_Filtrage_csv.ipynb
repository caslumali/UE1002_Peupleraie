{
 "cells": [
  {
   "cell_type": "markdown",
   "metadata": {},
   "source": [
    "### **1. Paramètres**"
   ]
  },
  {
   "cell_type": "code",
   "execution_count": 1,
   "metadata": {},
   "outputs": [],
   "source": [
    "# Importation des bibliothèques\n",
    "import os\n",
    "import pandas as pd"
   ]
  },
  {
   "cell_type": "code",
   "execution_count": 2,
   "metadata": {},
   "outputs": [],
   "source": [
    "# Chemin vers les fichiers\n",
    "csv_path = '../data_final/tableaux/'\n",
    "\n",
    "# Lire le fichier CSV\n",
    "df_pixel = pd.read_csv(os.path.join(csv_path, 'df_pixel.csv'), dtype={'id_parc': str})\n",
    "df_parcelle = pd.read_csv(os.path.join(csv_path, 'df_parcelle.csv'), dtype={'id_parc': str})"
   ]
  },
  {
   "cell_type": "markdown",
   "metadata": {},
   "source": [
    "### **2. Fonction pour filtrer les .csv**"
   ]
  },
  {
   "cell_type": "code",
   "execution_count": 3,
   "metadata": {},
   "outputs": [],
   "source": [
    "def filtrer_dataframe(df, pixels_to_exclude, exclude_unique_ids, criteria, lidar_date_filter=False):\n",
    "    \"\"\"\n",
    "    Applique des filtres au DataFrame pour exclure les pixels selon des critères spécifiques.\n",
    "\n",
    "    Args:\n",
    "        df (DataFrame): Le DataFrame à filtrer.\n",
    "        pixels_to_exclude (list): Liste des coordonnées (x, y) à exclure.\n",
    "        exclude_unique_ids (list): Liste des `unique_id` à exclure complètement.\n",
    "        criteria (dict): Critères spécifiques pour certains `unique_id`.\n",
    "        lidar_date_filter (bool): Si True, filtre également selon 'lidar_date' == 'date' et autres conditions Lidar.\n",
    "\n",
    "    Returns:\n",
    "        DataFrame: Le DataFrame filtré.\n",
    "    \"\"\"\n",
    "    # Supprimer les pixels selon les coordonnées\n",
    "    df_filtre = df[~df[[\"x\", \"y\"]].apply(tuple, axis=1).isin(pixels_to_exclude)]\n",
    "    \n",
    "    # Supprimer les pixels selon `unique_id`\n",
    "    df_filtre = df_filtre[~df_filtre[\"unique_id\"].isin(exclude_unique_ids)]\n",
    "    \n",
    "    # Appliquer les critères spécifiques\n",
    "    for uid, condition in criteria.items():\n",
    "        df_filtre = df_filtre[~(\n",
    "            (df_filtre[\"unique_id\"] == uid) &\n",
    "            (df_filtre.apply(condition, axis=1))\n",
    "        )]\n",
    "\n",
    "    # Filtrer selon 'lidar_date' == 'date' et autres conditions spécifiques à Lidar\n",
    "    if lidar_date_filter:\n",
    "        # Condition 1: 'lidar_date' == 'date'\n",
    "        if 'lidar_date' in df_filtre.columns and 'date' in df_filtre.columns:\n",
    "            df_filtre = df_filtre[df_filtre['lidar_date'] == df_filtre['date']]\n",
    "        \n",
    "        # Condition 2: Supprimer où `grid_CC < 5` et `age_plan >= 5`\n",
    "        if 'grid_CC' in df_filtre.columns and 'age_plan' in df_filtre.columns:\n",
    "            df_filtre = df_filtre[~((df_filtre['grid_CC'] < 5) & (df_filtre['age_plan'] >= 5))]\n",
    "        \n",
    "        # FIltrage dans l'échelle parcelle en utilisant la moyenne du CC (`CC`)\n",
    "        # if 'CC' in df_filtre.columns and 'age_plan' in df_filtre.columns:\n",
    "        #     df_filtre = df_filtre[~((df_filtre['CC'] < 5) & (df_filtre['age_plan'] >= 5))]\n",
    "\n",
    "    return df_filtre\n"
   ]
  },
  {
   "cell_type": "markdown",
   "metadata": {},
   "source": [
    "### **3. Filtrage des pixels du Departément 10**"
   ]
  },
  {
   "cell_type": "code",
   "execution_count": 4,
   "metadata": {},
   "outputs": [],
   "source": [
    "# Définir les paramètres de filtrage\n",
    "pixels_to_exclude = [\n",
    "    (736105, 6824467.46), (736115, 6824467.46), (736125, 6824467.46),\n",
    "    (736785, 6824337.46), (736795, 6824337.46), (736805, 6824337.46)\n",
    "]\n",
    "\n",
    "exclude_unique_ids = [\n",
    "    \"dep10_4\", \"dep10_5\", \"dep10_6\", \"dep10_8\", \"dep10_9\", \"dep10_14\",\n",
    "    \"dep10_17\", \"dep10_18\", \"dep10_19\", \"dep10_20\", \"dep10_21\", \"dep10_24\",\n",
    "    \"dep10_27\", \"dep10_29\", \"dep10_33\", \"dep10_35\", \"dep10_38\", \"dep10_40\",\n",
    "    \"dep10_41\", \"dep10_42\", \"dep10_45\", \"dep10_48\", \"dep10_49\", \"dep10_50\",\n",
    "    \"dep10_51\", \"dep10_52\", \"dep10_57\", \"dep10_59\", \"dep10_69\", \"dep10_71\",\n",
    "    \"dep10_83\", \"dep10_87\"\n",
    "]\n",
    "\n",
    "criteria = {\n",
    "    \"dep10_15\": lambda row: row['date'] <= 2019,\n",
    "    \"dep10_65\": lambda row: row['date'] <= 2019,\n",
    "    \"dep10_66\": lambda row: row['date'] <= 2019,\n",
    "    \"dep10_77\": lambda row: row['date'] <= 2019\n",
    "}\n"
   ]
  },
  {
   "cell_type": "markdown",
   "metadata": {},
   "source": [
    "### **3.1 Filtrage des pixels dans le .csv issue des raster Lidar (échelle pixel)**"
   ]
  },
  {
   "cell_type": "code",
   "execution_count": 5,
   "metadata": {},
   "outputs": [
    {
     "name": "stdout",
     "output_type": "stream",
     "text": [
      "Quantité initiale (df_pixel) : 77617\n",
      "Quantité après filtrage (df_px_filtre_dept10) : 71453\n",
      "Fichier df_px_filtre_dept10 sauvegardé avec succès.\n"
     ]
    }
   ],
   "source": [
    "# Appliquer le filtrage au DataFrame des pixels\n",
    "df_pixel_filtre_dept10 = filtrer_dataframe(df_pixel, pixels_to_exclude, exclude_unique_ids, criteria)\n",
    "print(f\"Quantité initiale (df_pixel) : {len(df_pixel)}\")\n",
    "print(f\"Quantité après filtrage (df_px_filtre_dept10) : {len(df_pixel_filtre_dept10)}\")\n",
    "\n",
    "# Sauvegarder le DataFrame filtré\n",
    "df_pixel_filtre_dept10.to_csv(os.path.join(csv_path, 'df_pixel_filtre_dept10.csv'), index=False)\n",
    "print(f\"Fichier df_px_filtre_dept10 sauvegardé avec succès.\")"
   ]
  },
  {
   "cell_type": "markdown",
   "metadata": {},
   "source": [
    "### **3.2 Filtrage des pixels dans le .csv issue des métriques calculées pour les parcelles (échelle parcelle)**"
   ]
  },
  {
   "cell_type": "code",
   "execution_count": 6,
   "metadata": {},
   "outputs": [
    {
     "name": "stdout",
     "output_type": "stream",
     "text": [
      "Quantité initiale (df_parcelle) : 77617\n",
      "Quantité après filtrage (df_parcelle_filtre_dept10) : 71453\n",
      "Fichier df_parcelle_filtre_dept10 sauvegardé avec succès.\n"
     ]
    }
   ],
   "source": [
    "# Appliquer le filtrage au DataFrame des parcelles\n",
    "df_parcelle_filtre_dept10 = filtrer_dataframe(df_parcelle, pixels_to_exclude, exclude_unique_ids, criteria)\n",
    "print(f\"Quantité initiale (df_parcelle) : {len(df_parcelle)}\")\n",
    "print(f\"Quantité après filtrage (df_parcelle_filtre_dept10) : {len(df_parcelle_filtre_dept10)}\")\n",
    "\n",
    "# Sauvegarder le DataFrame filtré\n",
    "df_parcelle_filtre_dept10.to_csv(os.path.join(csv_path, 'df_parcelle_filtre_dept10.csv'), index=False)\n",
    "print(f\"Fichier df_parcelle_filtre_dept10 sauvegardé avec succès.\")"
   ]
  },
  {
   "cell_type": "markdown",
   "metadata": {},
   "source": [
    "### **4. Filtrage pour les métriques lidar**"
   ]
  },
  {
   "cell_type": "markdown",
   "metadata": {},
   "source": [
    "### **4.1 Filtrage pour les métriques lidar dans le .csv issue des raster Lidar (échelle pixel)**"
   ]
  },
  {
   "cell_type": "code",
   "execution_count": 7,
   "metadata": {},
   "outputs": [
    {
     "name": "stdout",
     "output_type": "stream",
     "text": [
      "Quantité après filtrage lidar (df_px_filtre_lidar) : 9031\n",
      "Fichier df_px_filtre_lidar sauvegardé avec succès.\n"
     ]
    }
   ],
   "source": [
    "\n",
    "# Filtrer selon 'lidar_date' == 'date' pour les pixels\n",
    "df_pixel_filtre_lidar = filtrer_dataframe(df_pixel, pixels_to_exclude, exclude_unique_ids, criteria, lidar_date_filter=True)\n",
    "print(f\"Quantité après filtrage lidar (df_px_filtre_lidar) : {len(df_pixel_filtre_lidar)}\")\n",
    "\n",
    "# Sauvegarder le DataFrame filtré\n",
    "df_pixel_filtre_lidar.to_csv(os.path.join(csv_path, 'df_pixel_filtre_lidar.csv'), index=False)\n",
    "print(f\"Fichier df_px_filtre_lidar sauvegardé avec succès.\")"
   ]
  },
  {
   "cell_type": "markdown",
   "metadata": {},
   "source": [
    "### **4.2 Filtrage pour les métriques lidar dans le .csv issue des métriques calculées pour les parcelles (échelle parcelle)**"
   ]
  },
  {
   "cell_type": "code",
   "execution_count": 8,
   "metadata": {},
   "outputs": [
    {
     "name": "stdout",
     "output_type": "stream",
     "text": [
      "Quantité après filtrage lidar (df_parcelle_filtre_lidar) : 10111\n",
      "Fichier df_parcelle_filtre_lidar sauvegardé avec succès.\n"
     ]
    }
   ],
   "source": [
    "# Filtrer selon 'lidar_date' == 'date' pour les parcelles\n",
    "df_parcelle_filtre_lidar = filtrer_dataframe(df_parcelle, pixels_to_exclude, exclude_unique_ids, criteria, lidar_date_filter=True)\n",
    "print(f\"Quantité après filtrage lidar (df_parcelle_filtre_lidar) : {len(df_parcelle_filtre_lidar)}\")\n",
    "\n",
    "# Sauvegarder le DataFrame filtré\n",
    "df_parcelle_filtre_lidar.to_csv(os.path.join(csv_path, 'df_parcelle_filtre_lidar.csv'), index=False)\n",
    "print(f\"Fichier df_parcelle_filtre_lidar sauvegardé avec succès.\")"
   ]
  }
 ],
 "metadata": {
  "kernelspec": {
   "display_name": "peuplier",
   "language": "python",
   "name": "python3"
  },
  "language_info": {
   "codemirror_mode": {
    "name": "ipython",
    "version": 3
   },
   "file_extension": ".py",
   "mimetype": "text/x-python",
   "name": "python",
   "nbconvert_exporter": "python",
   "pygments_lexer": "ipython3",
   "version": "3.10.16"
  }
 },
 "nbformat": 4,
 "nbformat_minor": 2
}
