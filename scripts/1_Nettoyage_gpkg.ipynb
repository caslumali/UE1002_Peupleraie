{
 "cells": [
  {
   "cell_type": "markdown",
   "metadata": {},
   "source": [
    "### **1. Paramètres**"
   ]
  },
  {
   "cell_type": "code",
   "execution_count": 1,
   "metadata": {},
   "outputs": [],
   "source": [
    "# Importation des bibliothèques nécessaires\n",
    "import os \n",
    "import pandas as pd\n",
    "import geopandas as gpd\n",
    "import fiona\n",
    "\n",
    "# Importation des fonctions\n",
    "from functions_nettoyage import (nettoyer_gpkg, finaliser_gpkg)"
   ]
  },
  {
   "cell_type": "markdown",
   "metadata": {},
   "source": [
    "### **1.1. Chargement des Données**"
   ]
  },
  {
   "cell_type": "code",
   "execution_count": 2,
   "metadata": {},
   "outputs": [],
   "source": [
    "# Chargmenet du gpkg avec les données lidar\n",
    "path_gpkg_brut = \"../data_brut/vector/peupleraies_metriques.gpkg\"\n",
    "dep10_path = '../data_brut/vector/Peupliers_Dep10_32631.shp'\n",
    "\n",
    "# Chemin du dossier de sortie\n",
    "output_dir = \"../data_final/vector/\"\n",
    "\n",
    "# Dictionnaire pour les chemins de sortie\n",
    "gpkgs = {\n",
    "    \"parcelle\": \"../data_final/vector/peupleraies_lidar_parcelle.gpkg\",\n",
    "    \"pixel\": \"../data_final/vector/peupleraies_lidar_pixel.gpkg\"\n",
    "}"
   ]
  },
  {
   "cell_type": "code",
   "execution_count": 3,
   "metadata": {},
   "outputs": [],
   "source": [
    "# Chargement des vecteurs pour chaque département\n",
    "dep47_brut = gpd.read_file(path_gpkg_brut, layer='clean_dset_peupliers_47_epsg2154')\n",
    "dep73_brut = gpd.read_file(path_gpkg_brut, layer='parcelles_foret_chautagne_RGF93_avecCultivar_et_annees')\n",
    "dep82_bb_brut = gpd.read_file(path_gpkg_brut, layer='GF_de_Borde_Basse_82')\n",
    "dep82_sp_brut = gpd.read_file(path_gpkg_brut, layer='Carto_GFA_de_St_Pierre')\n",
    "dep10_brut = gpd.read_file(dep10_path)"
   ]
  },
  {
   "cell_type": "markdown",
   "metadata": {},
   "source": [
    "### **1.2. Configuration des colonnes et noms à conserver**"
   ]
  },
  {
   "cell_type": "code",
   "execution_count": 4,
   "metadata": {},
   "outputs": [],
   "source": [
    "# Configuration des colonnes et noms à conserver\n",
    "dep_configs = {\n",
    "    \"dep47\": {\n",
    "        \"data\": dep47_brut,\n",
    "        \"colonnes\": ['Année_pl', 'Cultivars', 'PAI_GF_mean', 'VCI_mean',\n",
    "                     'CC', 'MOCH', 'ENL', 'Z_mean', 'Densité', 'biomass_mean', 'lidar_date', 'geometry'],\n",
    "        \"noms\": {'Année_pl': 'annee_plan', 'Cultivars': 'cultivar'}\n",
    "    },\n",
    "    \"dep73\": {\n",
    "        \"data\": dep73_brut,\n",
    "        \"colonnes\": ['Annee_plan', 'Cultivar1', 'PAI_GF_mean', 'VCI_mean',\n",
    "                     'CC', 'MOCH', 'ENL', 'Z_mean', 'biomass_mean', 'lidar_date', 'geometry'],\n",
    "        \"noms\": {'Annee_plan': 'annee_plan', 'Cultivar1': 'cultivar'}\n",
    "    },\n",
    "    \"dep82_bb\": {\n",
    "        \"data\": dep82_bb_brut,\n",
    "        \"colonnes\": ['Essence', 'Année_pla', 'PAI_GF_mean', 'VCI_mean',\n",
    "                     'CC', 'MOCH', 'ENL', 'Z_mean', 'biomass_mean', 'lidar_date', 'geometry'],\n",
    "        \"noms\": {'Année_pla': 'annee_plan', 'Essence': 'cultivar'}\n",
    "    },\n",
    "    \"dep82_sp\": {\n",
    "        \"data\": dep82_sp_brut,\n",
    "        \"colonnes\": ['Espece', 'Annee', 'PAI_GF_mean', 'VCI_mean',\n",
    "                     'CC', 'MOCH', 'ENL', 'Z_mean', 'biomass_mean', 'lidar_date', 'geometry'],\n",
    "        \"noms\": {'Annee': 'annee_plan', 'Espece': 'cultivar'}\n",
    "    },\n",
    "    \"dep10\": {\n",
    "        \"data\": dep10_brut,\n",
    "        \"colonnes\": ['d_essenc_1', 'd_essenc_2', 'Annee', 'geometry'],\n",
    "        \"noms\": {'Annee': 'annee_plan', 'd_essenc_1': 'cultivar', 'd_essenc_2': 'd_essenc_2'}\n",
    "    }\n",
    "}"
   ]
  },
  {
   "cell_type": "markdown",
   "metadata": {},
   "source": [
    "### **2. Nettoyage et tranformation des données**"
   ]
  },
  {
   "cell_type": "code",
   "execution_count": 5,
   "metadata": {},
   "outputs": [
    {
     "name": "stdout",
     "output_type": "stream",
     "text": [
      "Fichier supprimé: ../data_final/vector/peupleraies_lidar_parcelle.gpkg\n",
      "Fichier supprimé: ../data_final/vector/peupleraies_lidar_pixel.gpkg\n"
     ]
    },
    {
     "name": "stderr",
     "output_type": "stream",
     "text": [
      "C:\\Users\\caslu\\AppData\\Local\\Temp\\ipykernel_35540\\2645599503.py:33: FutureWarning: The behavior of DataFrame concatenation with empty or all-NA entries is deprecated. In a future version, this will no longer exclude empty or all-NA columns when determining the result dtypes. To retain the old behavior, exclude the relevant entries before the concat operation.\n",
      "  peupleraies_merged = gpd.GeoDataFrame(pd.concat(all_deps, ignore_index=True), crs=crs_cible)\n"
     ]
    },
    {
     "name": "stdout",
     "output_type": "stream",
     "text": [
      "\n",
      "Résumé pour l'échelle: parcelle\n",
      "Nombre total de parcelles: 440\n",
      "Nombre de cultivars uniques: 53\n",
      "Occurrences des cultivars triées par ordre décroissant:\n",
      "cultivar_n\n",
      "Koster           66\n",
      "I214             47\n",
      "Raspalje         32\n",
      "Polargo          30\n",
      "Diva             26\n",
      "I45/51           21\n",
      "Tucano           21\n",
      "Moncalvo         20\n",
      "Soligo           18\n",
      "Aleramo          13\n",
      "Senna            12\n",
      "Hoogvorst        11\n",
      "Alcinde          11\n",
      "San Martino      11\n",
      "Rona             11\n",
      "Dorskamp         10\n",
      "Triplo            8\n",
      "Vesten            8\n",
      "Af8               6\n",
      "Fritzy Pauley     6\n",
      "Flevo             6\n",
      "Albelo            4\n",
      "Moleto            4\n",
      "Af13              2\n",
      "Lambro            2\n",
      "Boelare           2\n",
      "A4a               2\n",
      "Delvignac         2\n",
      "Degrosso          2\n",
      "Dano              2\n",
      "Imola             2\n",
      "Faux Gaver        1\n",
      "Trichobel         1\n",
      "9 Clones          1\n",
      "Taro              1\n",
      "Turbo             1\n",
      "Nikos             1\n",
      "Palorn            1\n",
      "Agora             1\n",
      "Sprint            1\n",
      "Ludo              1\n",
      "Pannonia          1\n",
      "Lena              1\n",
      "Kopecky           1\n",
      "Garo              1\n",
      "Oudenberg         1\n",
      "Marke             1\n",
      "Dender            1\n",
      "Oglio             1\n",
      "Missouri          1\n",
      "Eiffel            1\n",
      "Bic               1\n",
      "Brenta            1\n",
      "Name: count, dtype: int64\n",
      "\n",
      "Résumé pour l'échelle: pixel\n",
      "Nombre total de parcelles: 440\n",
      "Nombre de cultivars uniques: 53\n",
      "Occurrences des cultivars triées par ordre décroissant:\n",
      "cultivar_n\n",
      "Koster           66\n",
      "I214             47\n",
      "Raspalje         32\n",
      "Polargo          30\n",
      "Diva             26\n",
      "I45/51           21\n",
      "Tucano           21\n",
      "Moncalvo         20\n",
      "Soligo           18\n",
      "Aleramo          13\n",
      "Senna            12\n",
      "Hoogvorst        11\n",
      "Alcinde          11\n",
      "San Martino      11\n",
      "Rona             11\n",
      "Dorskamp         10\n",
      "Triplo            8\n",
      "Vesten            8\n",
      "Af8               6\n",
      "Fritzy Pauley     6\n",
      "Flevo             6\n",
      "Albelo            4\n",
      "Moleto            4\n",
      "Af13              2\n",
      "Lambro            2\n",
      "Boelare           2\n",
      "A4a               2\n",
      "Delvignac         2\n",
      "Degrosso          2\n",
      "Dano              2\n",
      "Imola             2\n",
      "Faux Gaver        1\n",
      "Trichobel         1\n",
      "9 Clones          1\n",
      "Taro              1\n",
      "Turbo             1\n",
      "Nikos             1\n",
      "Palorn            1\n",
      "Agora             1\n",
      "Sprint            1\n",
      "Ludo              1\n",
      "Pannonia          1\n",
      "Lena              1\n",
      "Kopecky           1\n",
      "Garo              1\n",
      "Oudenberg         1\n",
      "Marke             1\n",
      "Dender            1\n",
      "Oglio             1\n",
      "Missouri          1\n",
      "Eiffel            1\n",
      "Bic               1\n",
      "Brenta            1\n",
      "Name: count, dtype: int64\n"
     ]
    }
   ],
   "source": [
    "# Boucle pour iterer sur les dictionaires en utilisant les fonctions crées\n",
    "crs_cible = \"EPSG:2154\"  # Définir le CRS cible\n",
    "\n",
    "# Création des répertoires de sortie si ils n'existent pas\n",
    "os.makedirs(output_dir, exist_ok=True)\n",
    "\n",
    "# Remover les anciens fichiers GeoPackage avant de créer les nouveaux\n",
    "for gpkg_path in gpkgs.values():\n",
    "    if os.path.exists(gpkg_path):\n",
    "        os.remove(gpkg_path)\n",
    "        print(f\"Fichier supprimé: {gpkg_path}\")\n",
    "\n",
    "\n",
    "for echelle, gpkg_path in gpkgs.items():\n",
    "    all_deps = []  # Pour stocker les GeoDataFrames nettoyés pour chaque échelle\n",
    "\n",
    "    for couche_nom, config in dep_configs.items():\n",
    "        # Reprojeter les données brutes vers le CRS cible\n",
    "        data_reproj = config[\"data\"].to_crs(crs_cible)\n",
    "\n",
    "        # Nettoyer et finaliser les données\n",
    "        dep_clean = nettoyer_gpkg(data_reproj, config[\"colonnes\"], config[\"noms\"], couche_nom, echelle)\n",
    "        dep_clean = finaliser_gpkg(dep_clean, couche_nom, echelle)\n",
    "\n",
    "        # Ajouter aux données globales\n",
    "        all_deps.append(dep_clean)\n",
    "\n",
    "        # Sauvegarder chaque couche individuellement\n",
    "        dep_clean.to_file(gpkg_path, layer=f\"{couche_nom}_{echelle}_clean\", driver=\"GPKG\")\n",
    "    \n",
    "    \n",
    "    # Concaténer tous les départements pour l'échelle courante\n",
    "    peupleraies_merged = gpd.GeoDataFrame(pd.concat(all_deps, ignore_index=True), crs=crs_cible)\n",
    "    peupleraies_merged.to_file(gpkg_path, layer=f\"peupleraies_merged_{echelle}\", driver=\"GPKG\")\n",
    "\n",
    "    # Afficher les informations récapitulatives\n",
    "    print(f\"\\nRésumé pour l'échelle: {echelle}\")\n",
    "    print(f\"Nombre total de parcelles: {len(peupleraies_merged)}\")\n",
    "    unique_cultivars = peupleraies_merged['cultivar_n'].unique()\n",
    "    print(f\"Nombre de cultivars uniques: {len(unique_cultivars)}\")\n",
    "    print(\"Occurrences des cultivars triées par ordre décroissant:\")\n",
    "    print(peupleraies_merged['cultivar_n'].value_counts())"
   ]
  },
  {
   "cell_type": "markdown",
   "metadata": {},
   "source": [
    "### **3. Vérification des couches finales**"
   ]
  },
  {
   "cell_type": "code",
   "execution_count": 6,
   "metadata": {},
   "outputs": [
    {
     "name": "stdout",
     "output_type": "stream",
     "text": [
      "\n",
      "Couches disponibles dans le fichier GeoPackage : ../data_final/vector/peupleraies_lidar_parcelle.gpkg\n",
      "dep47_parcelle_clean\n",
      "dep73_parcelle_clean\n",
      "dep82_bb_parcelle_clean\n",
      "dep82_sp_parcelle_clean\n",
      "dep10_parcelle_clean\n",
      "peupleraies_merged_parcelle\n",
      "\n",
      "Couches disponibles dans le fichier GeoPackage : ../data_final/vector/peupleraies_lidar_pixel.gpkg\n",
      "dep47_pixel_clean\n",
      "dep73_pixel_clean\n",
      "dep82_bb_pixel_clean\n",
      "dep82_sp_pixel_clean\n",
      "dep10_pixel_clean\n",
      "peupleraies_merged_pixel\n"
     ]
    }
   ],
   "source": [
    "# Vérification de la création des couches dans les fichiers GeoPackage\n",
    "# Boucle pour chaque échelle et fichier GeoPackage\n",
    "for echelle, gpkg_path in gpkgs.items():\n",
    "    print(f\"\\nCouches disponibles dans le fichier GeoPackage : {gpkg_path}\")\n",
    "    # Liste des couches disponibles dans le GeoPackage\n",
    "    for layer in fiona.listlayers(gpkg_path):\n",
    "        print(layer)\n"
   ]
  },
  {
   "cell_type": "code",
   "execution_count": 7,
   "metadata": {},
   "outputs": [
    {
     "name": "stdout",
     "output_type": "stream",
     "text": [
      "Colonnes des peupleraies à l'échelle parcelle : Index(['unique_id', 'id_parc', 'annee_plan', 'cultivar_n', 'source',\n",
      "       'PAI_GF_mean', 'VCI_mean', 'CC', 'MOCH', 'ENL', 'Z_mean', 'densite',\n",
      "       'biomass_mean', 'lidar_date', 'geometry'],\n",
      "      dtype='object')\n",
      "Colonnes des peupleraies à l'échelle pixel : Index(['unique_id', 'id_parc', 'annee_plan', 'cultivar_n', 'source',\n",
      "       'lidar_date', 'geometry'],\n",
      "      dtype='object')\n"
     ]
    }
   ],
   "source": [
    "# Vérification des colonnes finales dans chaque fichier .gpkg\n",
    "# Chemins des fichiers GeoPackage\n",
    "path_gpkg_parcelle = '../data_final/vector/peupleraies_lidar_parcelle.gpkg'\n",
    "path_gpkg_pixel = '../data_final/vector/peupleraies_lidar_pixel.gpkg'\n",
    "\n",
    "# Chargement des couches vecteur\n",
    "peupleraie_parcelle = gpd.read_file(path_gpkg_parcelle, layer='peupleraies_merged_parcelle')\n",
    "peupleraie_pixel = gpd.read_file(path_gpkg_pixel, layer='peupleraies_merged_pixel')\n",
    "\n",
    "# Affichage des colonnes pour vérification\n",
    "print(\"Colonnes des peupleraies à l'échelle parcelle :\", peupleraie_parcelle.columns)\n",
    "print(\"Colonnes des peupleraies à l'échelle pixel :\", peupleraie_pixel.columns)\n"
   ]
  }
 ],
 "metadata": {
  "kernelspec": {
   "display_name": "peuplier",
   "language": "python",
   "name": "python3"
  },
  "language_info": {
   "codemirror_mode": {
    "name": "ipython",
    "version": 3
   },
   "file_extension": ".py",
   "mimetype": "text/x-python",
   "name": "python",
   "nbconvert_exporter": "python",
   "pygments_lexer": "ipython3",
   "version": "3.10.16"
  }
 },
 "nbformat": 4,
 "nbformat_minor": 2
}
