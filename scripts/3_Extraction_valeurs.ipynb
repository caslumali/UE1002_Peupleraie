{
 "cells": [
  {
   "cell_type": "markdown",
   "metadata": {},
   "source": [
    "### **1. Paramètres**"
   ]
  },
  {
   "cell_type": "code",
   "execution_count": 5,
   "metadata": {},
   "outputs": [],
   "source": [
    "# Importation des bibliothèques\n",
    "import os\n",
    "import pandas as pd\n",
    "import geopandas as gpd\n",
    "from shapely.geometry import Point\n",
    "from functions_extract import (jointure_parcelle, jointure_pixel, \n",
    "                       extract_confidence_values, extract_lidar_values)"
   ]
  },
  {
   "cell_type": "code",
   "execution_count": 6,
   "metadata": {},
   "outputs": [],
   "source": [
    "# Définition des paramètres\n",
    "annees = [2017, 2018, 2019, 2020, 2021, 2022]  # Liste des années à traiter\n",
    "zones = ['T30TYP', 'T30TYQ', 'T31TCJ', 'T31TGL', 'T31UEP']  # Liste des zones (tuiles)\n",
    "lidar_metrics = ['grid_CC', 'grid_ENL', 'grid_MOCH', 'grid_PAI', 'grid_VCI'] # métriques lidar\n",
    "\n",
    "# Chemins des répertoires et fichiers\n",
    "output_dir_confidence = '../data_final/raster/confidence'\n",
    "output_dir_lidar = '../data_final/raster/lidar' \n",
    "gpkg_parcelles_parcelle = '../data_final/vector/peupleraies_lidar_parcelle.gpkg'\n",
    "gpkg_parcelles_pixel = '../data_final/vector/peupleraies_lidar_pixel.gpkg'\n",
    "output_dir_csv = '../data_final/tableaux'  # Répertoire pour sauvegarder les fichiers CSV\n",
    "\n",
    "# Création du répertoire de sortie pour les tableaux CSV s'il n'existe pas\n",
    "os.makedirs(output_dir_csv, exist_ok=True)\n",
    "\n",
    "# Chargement des vecteurs à partir des fichiers GeoPackage\n",
    "peupleraies_parcelle = gpd.read_file(gpkg_parcelles_parcelle, layer='peupleraies_merged_parcelle')\n",
    "peupleraies_pixel = gpd.read_file(gpkg_parcelles_pixel, layer='peupleraies_merged_pixel')"
   ]
  },
  {
   "cell_type": "markdown",
   "metadata": {},
   "source": [
    " ### **2. Extraction Raster de confidence** "
   ]
  },
  {
   "cell_type": "code",
   "execution_count": 7,
   "metadata": {},
   "outputs": [
    {
     "name": "stdout",
     "output_type": "stream",
     "text": [
      "CSV final à l'échelle parcelle généré : df_parcelle.csv\n"
     ]
    }
   ],
   "source": [
    "df_parcelle_all = []\n",
    "\n",
    "# Boucle sur chaque zone pour extraire les valeurs\n",
    "for zone in zones:\n",
    "    conf_raster = os.path.join(output_dir_confidence, f\"confidence_masked_{zone}.tif\")\n",
    "    df_conf = extract_confidence_values(conf_raster, annees, nodata=0)\n",
    "\n",
    "    if df_conf is not None and not df_conf.empty:\n",
    "        # Arrondi des coordonnées pour assurer la précision\n",
    "        df_conf['x'] = df_conf['x'].round(2)\n",
    "        df_conf['y'] = df_conf['y'].round(2)\n",
    "\n",
    "        # Jointure spatiale à l'échelle parcelle\n",
    "        df_merge = jointure_parcelle(df_conf, peupleraies_parcelle)\n",
    "\n",
    "        if not df_merge.empty:\n",
    "            df_parcelle_all.append(df_merge)\n",
    "\n",
    "# Regroupement et exportation des résultats finaux\n",
    "if df_parcelle_all:\n",
    "    df_parcelle_final = pd.concat(df_parcelle_all, ignore_index=True)\n",
    "    df_parcelle_final.to_csv(os.path.join(output_dir_csv, 'df_parcelle.csv'), index=False)\n",
    "    print(\"CSV final à l'échelle parcelle généré : df_parcelle.csv\")"
   ]
  },
  {
   "cell_type": "markdown",
   "metadata": {},
   "source": [
    " ### **3. Extraction Raster de confidence + Lidar** "
   ]
  },
  {
   "cell_type": "code",
   "execution_count": 8,
   "metadata": {},
   "outputs": [
    {
     "name": "stderr",
     "output_type": "stream",
     "text": [
      "C:\\Users\\caslu\\AppData\\Local\\Temp\\ipykernel_34116\\293416774.py:45: FutureWarning: The behavior of DataFrame concatenation with empty or all-NA entries is deprecated. In a future version, this will no longer exclude empty or all-NA columns when determining the result dtypes. To retain the old behavior, exclude the relevant entries before the concat operation.\n",
      "  df_pixel_final = pd.concat(df_pixel_all, ignore_index=True)\n"
     ]
    },
    {
     "name": "stdout",
     "output_type": "stream",
     "text": [
      "CSV final à l'échelle pixel généré : df_pixel.csv\n"
     ]
    }
   ],
   "source": [
    "df_pixel_all = []\n",
    "\n",
    "# Boucle sur chaque zone pour traiter les données\n",
    "for zone in zones:\n",
    "    # Extraction des valeurs de confiance\n",
    "    conf_raster = os.path.join(output_dir_confidence, f\"confidence_masked_{zone}.tif\")\n",
    "    df_conf = extract_confidence_values(conf_raster, annees, nodata=0)\n",
    "    if df_conf is None or df_conf.empty:\n",
    "        continue\n",
    "\n",
    "    # Arrondi des coordonnées pour garantir la correspondance\n",
    "    df_conf['x'] = df_conf['x'].round(2)\n",
    "    df_conf['y'] = df_conf['y'].round(2)\n",
    "\n",
    "    # Récupération des métriques LiDAR (sauf pour T31UEP)\n",
    "    lidar_raster_paths = {}\n",
    "    if zone != 'T31UEP':\n",
    "        for metric in lidar_metrics:\n",
    "            r_path = os.path.join(output_dir_lidar, f\"{metric}_masked_{zone}.tif\")\n",
    "            lidar_raster_paths[metric] = r_path\n",
    "\n",
    "    # Fusion des données de confiance et des métriques LiDAR\n",
    "    if lidar_raster_paths:\n",
    "        df_lidar = extract_lidar_values(lidar_raster_paths, nodata=-999)\n",
    "        if not df_lidar.empty:\n",
    "            df_lidar['x'] = df_lidar['x'].round(2)\n",
    "            df_lidar['y'] = df_lidar['y'].round(2)\n",
    "\n",
    "        # Fusion (left join) des données de confiance avec les métriques LiDAR\n",
    "        df_pixel_merged = pd.merge(df_conf, df_lidar, on=['x', 'y'], how='left')\n",
    "        df_pixel_merged = df_pixel_merged[df_pixel_merged['valeur'].notnull()]\n",
    "    else:\n",
    "        # Si aucune donnée LiDAR n'est disponible, ajoute des colonnes vides\n",
    "        df_pixel_merged = df_conf.copy()\n",
    "        for metric in lidar_metrics:\n",
    "            df_pixel_merged[metric] = pd.NA\n",
    "\n",
    "    # Jointure spatiale à l'échelle pixel\n",
    "    df_final_pixel = jointure_pixel(df_pixel_merged, peupleraies_pixel)\n",
    "    if not df_final_pixel.empty:\n",
    "        df_pixel_all.append(df_final_pixel)\n",
    "\n",
    "# Regroupement et exportation des résultats finaux\n",
    "if df_pixel_all:\n",
    "    df_pixel_final = pd.concat(df_pixel_all, ignore_index=True)\n",
    "    df_pixel_final.to_csv(os.path.join(output_dir_csv, 'df_pixel.csv'), index=False)\n",
    "    print(\"CSV final à l'échelle pixel généré : df_pixel.csv\")"
   ]
  }
 ],
 "metadata": {
  "kernelspec": {
   "display_name": "peuplier",
   "language": "python",
   "name": "python3"
  },
  "language_info": {
   "codemirror_mode": {
    "name": "ipython",
    "version": 3
   },
   "file_extension": ".py",
   "mimetype": "text/x-python",
   "name": "python",
   "nbconvert_exporter": "python",
   "pygments_lexer": "ipython3",
   "version": "3.10.16"
  }
 },
 "nbformat": 4,
 "nbformat_minor": 2
}
