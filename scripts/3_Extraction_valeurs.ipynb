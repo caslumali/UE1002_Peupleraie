{
 "cells": [
  {
   "cell_type": "markdown",
   "metadata": {},
   "source": [
    "### **1. Paramètres**"
   ]
  },
  {
   "cell_type": "code",
   "execution_count": 1,
   "metadata": {},
   "outputs": [],
   "source": [
    "# Importation des bibliothèques\n",
    "import os\n",
    "import pandas as pd\n",
    "import geopandas as gpd\n",
    "from shapely.geometry import Point\n",
    "from functions_extract import (jointure_parcelle, jointure_pixel, \n",
    "                       extract_confidence_values, extract_lidar_values)"
   ]
  },
  {
   "cell_type": "code",
   "execution_count": 2,
   "metadata": {},
   "outputs": [],
   "source": [
    "# Définition des paramètres\n",
    "annees = [2017, 2018, 2019, 2020, 2021, 2022]  # Liste des années à traiter\n",
    "zones = ['T30TYP', 'T30TYQ', 'T31TCJ', 'T31TGL', 'T31UEP']  # Liste des zones (tuiles)\n",
    "lidar_metrics = ['grid_CC', 'grid_ENL', 'grid_MOCH', 'grid_PAI', 'grid_VCI'] # métriques lidar\n",
    "\n",
    "# Chemins des répertoires et fichiers\n",
    "output_dir_confidence = '../data_final/raster/confidence'\n",
    "output_dir_lidar = '../data_final/raster/lidar' \n",
    "gpkg_parcelles_parcelle = '../data_final/vector/peupleraies_lidar_parcelle.gpkg'\n",
    "gpkg_parcelles_pixel = '../data_final/vector/peupleraies_lidar_pixel.gpkg'\n",
    "output_dir_csv = '../data_final/tableaux'  # Répertoire pour sauvegarder les fichiers CSV\n",
    "\n",
    "# Création du répertoire de sortie pour les tableaux CSV s'il n'existe pas\n",
    "os.makedirs(output_dir_csv, exist_ok=True)\n",
    "\n",
    "# Chargement des vecteurs à partir des fichiers GeoPackage\n",
    "peupleraies_parcelle = gpd.read_file(gpkg_parcelles_parcelle, layer='peupleraies_merged_parcelle')\n",
    "peupleraies_pixel = gpd.read_file(gpkg_parcelles_pixel, layer='peupleraies_merged_pixel')"
   ]
  },
  {
   "cell_type": "markdown",
   "metadata": {},
   "source": [
    " ### **2. Extraction Raster de confidence** "
   ]
  },
  {
   "cell_type": "code",
   "execution_count": 3,
   "metadata": {},
   "outputs": [
    {
     "name": "stdout",
     "output_type": "stream",
     "text": [
      "\n",
      "*** Statistiques finales pour les parcelles ***\n",
      "Nombre total de lignes : 77617\n",
      "Nombre total de unique_ids : 323\n",
      "Nombre de lignes par département (source) :\n",
      "source\n",
      "dep10       15199\n",
      "dep47       18061\n",
      "dep73       22110\n",
      "dep82_bb    10654\n",
      "dep82_sp    11593\n",
      "dtype: int64\n",
      "Nombre de unique_ids par département (source) :\n",
      "source\n",
      "dep10        64\n",
      "dep47        60\n",
      "dep73        19\n",
      "dep82_bb     42\n",
      "dep82_sp    138\n",
      "Name: unique_id, dtype: int64\n",
      "CSV final à l'échelle parcelle généré : df_parcelle.csv\n"
     ]
    }
   ],
   "source": [
    "### **2. Extraction Raster de confidence** \n",
    "df_parcelle_all = []\n",
    "\n",
    "# Boucle sur chaque zone pour extraire les valeurs\n",
    "for zone in zones:\n",
    "    conf_raster = os.path.join(output_dir_confidence, f\"confidence_masked_{zone}.tif\")\n",
    "    df_conf = extract_confidence_values(conf_raster, annees, nodata=0)\n",
    "\n",
    "    if df_conf is not None and not df_conf.empty:\n",
    "        # Arrondi des coordonnées pour assurer la précision\n",
    "        df_conf['x'] = df_conf['x'].round(2)\n",
    "        df_conf['y'] = df_conf['y'].round(2)\n",
    "\n",
    "        # Jointure spatiale à l'échelle parcelle\n",
    "        df_merge = jointure_parcelle(df_conf, peupleraies_parcelle)\n",
    "\n",
    "        if not df_merge.empty:\n",
    "            df_parcelle_all.append(df_merge)\n",
    "\n",
    "# Regroupement des résultats finaux pour les parcelles\n",
    "if df_parcelle_all:\n",
    "    df_parcelle_final = pd.concat(df_parcelle_all, ignore_index=True)\n",
    "\n",
    "    # Calcul des statistiques globales\n",
    "    print(\"\\n*** Statistiques finales pour les parcelles ***\")\n",
    "    print(f\"Nombre total de lignes : {len(df_parcelle_final)}\")\n",
    "    print(f\"Nombre total de unique_ids : {df_parcelle_final['unique_id'].nunique()}\")\n",
    "    print(\"Nombre de lignes par département (source) :\")\n",
    "    print(df_parcelle_final.groupby('source').size())\n",
    "    print(\"Nombre de unique_ids par département (source) :\")\n",
    "    print(df_parcelle_final.groupby('source')['unique_id'].nunique())\n",
    "\n",
    "    # Exportation du CSV final\n",
    "    df_parcelle_final.to_csv(os.path.join(output_dir_csv, 'df_parcelle.csv'), index=False)\n",
    "    print(\"CSV final à l'échelle parcelle généré : df_parcelle.csv\")\n"
   ]
  },
  {
   "cell_type": "markdown",
   "metadata": {},
   "source": [
    " ### **3. Extraction Raster de confidence + Lidar** "
   ]
  },
  {
   "cell_type": "code",
   "execution_count": 4,
   "metadata": {},
   "outputs": [
    {
     "name": "stdout",
     "output_type": "stream",
     "text": [
      "\n",
      "*** Statistiques finales pour les parcelles ***\n",
      "Nombre total de lignes : 77617\n",
      "Nombre total de unique_ids : 323\n",
      "Nombre de lignes par département (source) :\n",
      "source\n",
      "dep10       15199\n",
      "dep47       18061\n",
      "dep73       22110\n",
      "dep82_bb    10654\n",
      "dep82_sp    11593\n",
      "dtype: int64\n",
      "Nombre de unique_ids par département (source) :\n",
      "source\n",
      "dep10        64\n",
      "dep47        60\n",
      "dep73        19\n",
      "dep82_bb     42\n",
      "dep82_sp    138\n",
      "Name: unique_id, dtype: int64\n",
      "CSV final à l'échelle parcelle généré : df_parcelle.csv\n"
     ]
    }
   ],
   "source": [
    "### **2. Extraction Raster de confidence** \n",
    "df_parcelle_all = []\n",
    "\n",
    "# Boucle sur chaque zone pour extraire les valeurs\n",
    "for zone in zones:\n",
    "    conf_raster = os.path.join(output_dir_confidence, f\"confidence_masked_{zone}.tif\")\n",
    "    df_conf = extract_confidence_values(conf_raster, annees, nodata=0)\n",
    "\n",
    "    if df_conf is not None and not df_conf.empty:\n",
    "        # Arrondi des coordonnées pour assurer la précision\n",
    "        df_conf['x'] = df_conf['x'].round(2)\n",
    "        df_conf['y'] = df_conf['y'].round(2)\n",
    "\n",
    "        # Jointure spatiale à l'échelle parcelle\n",
    "        df_merge = jointure_parcelle(df_conf, peupleraies_parcelle)\n",
    "\n",
    "        if not df_merge.empty:\n",
    "            df_parcelle_all.append(df_merge)\n",
    "\n",
    "# Regroupement des résultats finaux pour les parcelles\n",
    "if df_parcelle_all:\n",
    "    df_parcelle_final = pd.concat(df_parcelle_all, ignore_index=True)\n",
    "\n",
    "    # Calcul des statistiques globales\n",
    "    print(\"\\n*** Statistiques finales pour les parcelles ***\")\n",
    "    print(f\"Nombre total de lignes : {len(df_parcelle_final)}\")\n",
    "    print(f\"Nombre total de unique_ids : {df_parcelle_final['unique_id'].nunique()}\")\n",
    "    print(\"Nombre de lignes par département (source) :\")\n",
    "    print(df_parcelle_final.groupby('source').size())\n",
    "    print(\"Nombre de unique_ids par département (source) :\")\n",
    "    print(df_parcelle_final.groupby('source')['unique_id'].nunique())\n",
    "\n",
    "    # Exportation du CSV final\n",
    "    df_parcelle_final.to_csv(os.path.join(output_dir_csv, 'df_parcelle.csv'), index=False)\n",
    "    print(\"CSV final à l'échelle parcelle généré : df_parcelle.csv\")\n"
   ]
  },
  {
   "cell_type": "markdown",
   "metadata": {},
   "source": []
  }
 ],
 "metadata": {
  "kernelspec": {
   "display_name": "peuplier",
   "language": "python",
   "name": "python3"
  },
  "language_info": {
   "codemirror_mode": {
    "name": "ipython",
    "version": 3
   },
   "file_extension": ".py",
   "mimetype": "text/x-python",
   "name": "python",
   "nbconvert_exporter": "python",
   "pygments_lexer": "ipython3",
   "version": "3.10.16"
  }
 },
 "nbformat": 4,
 "nbformat_minor": 2
}
