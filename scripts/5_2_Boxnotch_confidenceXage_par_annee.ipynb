{
 "cells": [
  {
   "cell_type": "markdown",
   "metadata": {},
   "source": [
    "### **1. Paramètres**"
   ]
  },
  {
   "cell_type": "code",
   "execution_count": 1,
   "metadata": {},
   "outputs": [],
   "source": [
    "# Importation des bibliothèques\n",
    "import os\n",
    "import pandas as pd\n",
    "import numpy as np\n",
    "import matplotlib.pyplot as plt\n",
    "import matplotlib.colors as mcolors\n",
    "from matplotlib.backends.backend_pdf import PdfPages\n",
    "\n",
    "from functions_plot_lucas import top_cultivars, grid_boxnotch_confidenceXage_par_anne"
   ]
  },
  {
   "cell_type": "code",
   "execution_count": 2,
   "metadata": {},
   "outputs": [],
   "source": [
    "# Chemin vers les fichiers\n",
    "csv_path = '../data_final/tableaux/'\n",
    "output_path = '../results/2_confidenceXage_par_annee'\n",
    "\n",
    "# Vérifier si le dossier de sortie existe ; le créer si nécessaire\n",
    "if not os.path.exists(output_path):\n",
    "    os.makedirs(output_path)\n",
    "\n",
    "# Lire le fichier CSV\n",
    "df_px_filtre_dept10 = pd.read_csv(os.path.join(csv_path, 'df_pixel_filtre_dept10.csv'), dtype={'id_parc': str})"
   ]
  },
  {
   "cell_type": "markdown",
   "metadata": {},
   "source": [
    "### **2. Faires les boxplots**"
   ]
  },
  {
   "cell_type": "code",
   "execution_count": 3,
   "metadata": {},
   "outputs": [
    {
     "name": "stdout",
     "output_type": "stream",
     "text": [
      "Nombre de cultivars sélectionnés: 18\n",
      "Koster: 10764 pixels\n",
      "Polargo: 7728 pixels\n",
      "I214: 7655 pixels\n",
      "I45/51: 5073 pixels\n",
      "Soligo: 3940 pixels\n",
      "Flevo: 3499 pixels\n",
      "Dorskamp: 2608 pixels\n",
      "Raspalje: 2459 pixels\n",
      "Triplo: 1370 pixels\n",
      "Albelo: 1031 pixels\n",
      "Alcinde: 886 pixels\n",
      "Diva: 500 pixels\n",
      "Tucano: 300 pixels\n",
      "Senna: 294 pixels\n",
      "San Martino: 284 pixels\n",
      "Aleramo: 177 pixels\n",
      "Moncalvo: 171 pixels\n",
      "Rona: 160 pixels\n"
     ]
    }
   ],
   "source": [
    "# Faire un dicitonnaires avec les cultivars principaux\n",
    "dict_top_cultivars = top_cultivars(df_px_filtre_dept10)\n",
    "print(f\"Nombre de cultivars sélectionnés: {len(dict_top_cultivars)}\")\n",
    "\n",
    "# Imprimer les cultivars triés par nombre de pixels\n",
    "for cultivar, count in dict_top_cultivars.items():\n",
    "    print(f\"{cultivar}: {count} pixels\")"
   ]
  },
  {
   "cell_type": "code",
   "execution_count": 4,
   "metadata": {},
   "outputs": [],
   "source": [
    "# Prendre juste les tops cultivar pour faire les boxplots\n",
    "df_px_filtre_dept10 = df_px_filtre_dept10[df_px_filtre_dept10['cultivar_n'].isin(dict_top_cultivars)]\n",
    "df_px_filtre_dept10 = df_px_filtre_dept10[(df_px_filtre_dept10['age_plan'] >= 1) & (df_px_filtre_dept10['age_plan'] <= 12)]\n",
    "df_px_filtre_dept10['age_plan'] = df_px_filtre_dept10['age_plan'].astype(int)"
   ]
  },
  {
   "cell_type": "code",
   "execution_count": 5,
   "metadata": {},
   "outputs": [],
   "source": [
    "# Définir une palette de couleurs pour chaque année\n",
    "color_palette = {\n",
    "    2017: \"skyblue\", 2018: \"orange\", 2019: \"green\",\n",
    "    2020: \"red\", 2021: \"purple\", 2022: \"brown\"\n",
    "}"
   ]
  },
  {
   "cell_type": "code",
   "execution_count": 6,
   "metadata": {},
   "outputs": [
    {
     "name": "stdout",
     "output_type": "stream",
     "text": [
      "Grille de boxplots pour le cultivar 'Koster' sauvegardée sous le nom '01_Koster_grille.png'.\n",
      "Grille de boxplots pour le cultivar 'Polargo' sauvegardée sous le nom '02_Polargo_grille.png'.\n",
      "Grille de boxplots pour le cultivar 'I214' sauvegardée sous le nom '03_I214_grille.png'.\n",
      "Grille de boxplots pour le cultivar 'I45/51' sauvegardée sous le nom '04_I45_51_grille.png'.\n",
      "Grille de boxplots pour le cultivar 'Soligo' sauvegardée sous le nom '05_Soligo_grille.png'.\n",
      "Grille de boxplots pour le cultivar 'Flevo' sauvegardée sous le nom '06_Flevo_grille.png'.\n",
      "Grille de boxplots pour le cultivar 'Dorskamp' sauvegardée sous le nom '07_Dorskamp_grille.png'.\n",
      "Grille de boxplots pour le cultivar 'Raspalje' sauvegardée sous le nom '08_Raspalje_grille.png'.\n",
      "Grille de boxplots pour le cultivar 'Triplo' sauvegardée sous le nom '09_Triplo_grille.png'.\n",
      "Grille de boxplots pour le cultivar 'Albelo' sauvegardée sous le nom '10_Albelo_grille.png'.\n",
      "Grille de boxplots pour le cultivar 'Alcinde' sauvegardée sous le nom '11_Alcinde_grille.png'.\n",
      "Grille de boxplots pour le cultivar 'Diva' sauvegardée sous le nom '12_Diva_grille.png'.\n",
      "Grille de boxplots pour le cultivar 'Tucano' sauvegardée sous le nom '13_Tucano_grille.png'.\n",
      "Grille de boxplots pour le cultivar 'Senna' sauvegardée sous le nom '14_Senna_grille.png'.\n",
      "Grille de boxplots pour le cultivar 'San Martino' sauvegardée sous le nom '15_San Martino_grille.png'.\n",
      "Grille de boxplots pour le cultivar 'Aleramo' sauvegardée sous le nom '16_Aleramo_grille.png'.\n",
      "Grille de boxplots pour le cultivar 'Moncalvo' sauvegardée sous le nom '17_Moncalvo_grille.png'.\n",
      "Grille de boxplots pour le cultivar 'Rona' sauvegardée sous le nom '18_Rona_grille.png'.\n",
      "PDF combiné avec tous les boxplots sauvegardé avec succès.\n"
     ]
    }
   ],
   "source": [
    "\n",
    "# Création d'un fichier PDF combinant tous les boxplots\n",
    "with PdfPages(os.path.join(output_path, \"Boxnotch_confidenceXage_par_annee.pdf\")) as pdf:\n",
    "    for index, cultivar in enumerate(dict_top_cultivars, start=1):\n",
    "        grid_boxnotch_confidenceXage_par_anne(df_px_filtre_dept10,\n",
    "                                              cultivar, output_path,\n",
    "                                              color_palette=color_palette,\n",
    "                                              index=index,\n",
    "                                              pdf=pdf)\n",
    "\n",
    "print(\"PDF combiné avec tous les boxplots sauvegardé avec succès.\")\n"
   ]
  }
 ],
 "metadata": {
  "kernelspec": {
   "display_name": "peuplier",
   "language": "python",
   "name": "python3"
  },
  "language_info": {
   "codemirror_mode": {
    "name": "ipython",
    "version": 3
   },
   "file_extension": ".py",
   "mimetype": "text/x-python",
   "name": "python",
   "nbconvert_exporter": "python",
   "pygments_lexer": "ipython3",
   "version": "3.10.16"
  }
 },
 "nbformat": 4,
 "nbformat_minor": 2
}
