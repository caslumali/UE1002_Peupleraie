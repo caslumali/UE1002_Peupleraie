{
 "cells": [
  {
   "cell_type": "markdown",
   "metadata": {},
   "source": [
    "### **1. Paramètres**"
   ]
  },
  {
   "cell_type": "code",
   "execution_count": 1,
   "metadata": {},
   "outputs": [],
   "source": [
    "# Importation des bibliothèques\n",
    "import os\n",
    "import pandas as pd\n",
    "import numpy as np\n",
    "import matplotlib.pyplot as plt\n",
    "from matplotlib.backends.backend_pdf import PdfPages\n",
    "\n",
    "from functions_plots import top_cultivars, boxnotch_lidar_metrics"
   ]
  },
  {
   "cell_type": "code",
   "execution_count": 2,
   "metadata": {},
   "outputs": [],
   "source": [
    "# Chemin vers les fichiers\n",
    "csv_path = '../data_final/tableaux/'\n",
    "output_path = '../results/3_lidar_metrics'\n",
    "\n",
    "# Vérifier si le dossier de sortie existe ; le créer si nécessaire\n",
    "if not os.path.exists(output_path):\n",
    "    os.makedirs(output_path)\n",
    "\n",
    "# Lire le fichier CSV\n",
    "df_px_filtre_lidar = pd.read_csv(os.path.join(csv_path, 'df_pixel_filtre_lidar.csv'), dtype={'id_parc': str})"
   ]
  },
  {
   "cell_type": "markdown",
   "metadata": {},
   "source": [
    "### **2. Faire les boxplots**"
   ]
  },
  {
   "cell_type": "code",
   "execution_count": 3,
   "metadata": {},
   "outputs": [
    {
     "name": "stdout",
     "output_type": "stream",
     "text": [
      "Nombre de cultivars sélectionnés: 16\n",
      "Koster: 783 pixels\n",
      "I45/51: 580 pixels\n",
      "Raspalje: 536 pixels\n",
      "Polargo: 516 pixels\n",
      "I214: 497 pixels\n",
      "Soligo: 317 pixels\n",
      "Diva: 182 pixels\n",
      "Tucano: 117 pixels\n",
      "Moncalvo: 114 pixels\n",
      "Senna: 114 pixels\n",
      "San Martino: 83 pixels\n",
      "Rona: 71 pixels\n",
      "Aleramo: 64 pixels\n",
      "Hoogvorst: 30 pixels\n",
      "Delvignac: 26 pixels\n",
      "Vesten: 5 pixels\n"
     ]
    }
   ],
   "source": [
    "# Faire un dicitonnaires avec les cultivars principaux\n",
    "dict_top_cultivars = top_cultivars(df_px_filtre_lidar, max_age=12, min_years=2, top_n=20)\n",
    "print(f\"Nombre de cultivars sélectionnés: {len(dict_top_cultivars)}\")\n",
    "\n",
    "# Imprimer les cultivars triés par nombre de pixels\n",
    "for cultivar, count in dict_top_cultivars.items():\n",
    "    print(f\"{cultivar}: {count} pixels\")"
   ]
  },
  {
   "cell_type": "code",
   "execution_count": 4,
   "metadata": {},
   "outputs": [],
   "source": [
    "# Prendre juste les tops cultivar  pour faire les boxplots\n",
    "df_px_filtre_lidar = df_px_filtre_lidar[df_px_filtre_lidar['cultivar_n'].isin(dict_top_cultivars)]\n",
    "df_px_filtre_lidar = df_px_filtre_lidar[(df_px_filtre_lidar['age_plan'] >= 1) & (df_px_filtre_lidar['age_plan'] <= 12)]\n",
    "df_px_filtre_lidar['age_plan'] = df_px_filtre_lidar['age_plan'].astype(int)"
   ]
  },
  {
   "cell_type": "code",
   "execution_count": 5,
   "metadata": {},
   "outputs": [],
   "source": [
    "# Obtenir toutes les valeurs uniques de la colonne 'source' dans le DataFrame filtré\n",
    "unique_sources = df_px_filtre_lidar['source'].unique()\n",
    "\n",
    "# Générer une palette de couleurs avec 'tab10' pour chaque valeur unique de 'source'\n",
    "source_colors = plt.cm.tab10(np.linspace(0, 1, len(unique_sources)))\n",
    "source_color_map = dict(zip(unique_sources, source_colors))"
   ]
  },
  {
   "cell_type": "code",
   "execution_count": 6,
   "metadata": {},
   "outputs": [],
   "source": [
    "metrics = ['grid_CC', 'grid_PAI', 'grid_ENL', 'grid_VCI', 'grid_MOCH']\n",
    "\n",
    "# Calculer les limites Y pour chaque métrique\n",
    "y_limits = {}\n",
    "for metric in metrics:\n",
    "    y_min = df_px_filtre_lidar[metric].min()\n",
    "    y_max = df_px_filtre_lidar[metric].max()\n",
    "    y_limits[metric] = (y_min, y_max)"
   ]
  },
  {
   "cell_type": "code",
   "execution_count": 7,
   "metadata": {},
   "outputs": [
    {
     "name": "stdout",
     "output_type": "stream",
     "text": [
      "PDF avec tous les graphiques sauvegardé à: ../results/3_lidar_metrics\\Boxnotch_lidar_metrics.pdf\n"
     ]
    }
   ],
   "source": [
    "# Générer les graphiques\n",
    "pdf_path = os.path.join(output_path, \"Boxnotch_lidar_metrics.pdf\")\n",
    "with PdfPages(pdf_path) as pdf:\n",
    "    for cultivar_index, (cultivar, _) in enumerate(dict_top_cultivars.items(), start=1):\n",
    "        for metric in metrics:\n",
    "            boxnotch_lidar_metrics(\n",
    "                df=df_px_filtre_lidar,\n",
    "                cultivar=cultivar,\n",
    "                metric=metric,\n",
    "                color_map=source_color_map,\n",
    "                y_limits=y_limits[metric],\n",
    "                pdf=pdf,\n",
    "                output_path=output_path,\n",
    "                cultivar_index=cultivar_index\n",
    "            )\n",
    "\n",
    "print(f\"PDF avec tous les graphiques sauvegardé à: {pdf_path}\")\n"
   ]
  }
 ],
 "metadata": {
  "kernelspec": {
   "display_name": "peuplier",
   "language": "python",
   "name": "python3"
  },
  "language_info": {
   "codemirror_mode": {
    "name": "ipython",
    "version": 3
   },
   "file_extension": ".py",
   "mimetype": "text/x-python",
   "name": "python",
   "nbconvert_exporter": "python",
   "pygments_lexer": "ipython3",
   "version": "3.10.16"
  }
 },
 "nbformat": 4,
 "nbformat_minor": 2
}
