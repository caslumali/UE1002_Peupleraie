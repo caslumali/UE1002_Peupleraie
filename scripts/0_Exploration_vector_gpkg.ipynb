{
 "cells": [
  {
   "cell_type": "markdown",
   "metadata": {},
   "source": [
    "### **1. Paramètres**"
   ]
  },
  {
   "cell_type": "code",
   "execution_count": 1,
   "metadata": {},
   "outputs": [],
   "source": [
    "# Importation des bibliothèques\n",
    "import os \n",
    "import re\n",
    "import numpy as np\n",
    "import geopandas as gpd\n",
    "import fiona\n",
    "import matplotlib.pyplot as plt\n",
    "import rasterio\n",
    "from rasterio.features import rasterize\n",
    "from rasterio.mask import mask\n"
   ]
  },
  {
   "cell_type": "code",
   "execution_count": 2,
   "metadata": {},
   "outputs": [
    {
     "name": "stdout",
     "output_type": "stream",
     "text": [
      "Couches disponibles dans le dossier (shps) : \n",
      "parcelles_borde_basse_dep82\n",
      "parcelles_chautagne_dep73\n",
      "parcelles_dep47\n",
      "parcelles_gfa_st_pierre_dep82\n",
      "Peupliers_Dep10_32631\n"
     ]
    }
   ],
   "source": [
    "# Chargement des donnéés\n",
    "path_vectors = \"../data_brut/vector\"\n",
    "shps = fiona.listlayers(path_vectors)\n",
    "\n",
    "print(\"Couches disponibles dans le dossier (shps) : \")\n",
    "for shp in shps:\n",
    "    print(shp)"
   ]
  },
  {
   "cell_type": "code",
   "execution_count": 3,
   "metadata": {},
   "outputs": [],
   "source": [
    "# Charger les couches\n",
    "dep47_brut = gpd.read_file(path_vectors, layer ='parcelles_dep47')\n",
    "dep73_brut = gpd.read_file(path_vectors, layer ='parcelles_chautagne_dep73')\n",
    "dep82_bb_brut = gpd.read_file(path_vectors, layer ='parcelles_borde_basse_dep82')\n",
    "dep82_sp_brut = gpd.read_file(path_vectors, layer ='parcelles_gfa_st_pierre_dep82')\n",
    "dep_10_brut = gpd.read_file(path_vectors, layer = \"Peupliers_Dep10_32631\")"
   ]
  },
  {
   "cell_type": "markdown",
   "metadata": {},
   "source": [
    "### **2. Nettoyer le dep47**"
   ]
  },
  {
   "cell_type": "code",
   "execution_count": 4,
   "metadata": {},
   "outputs": [
    {
     "name": "stdout",
     "output_type": "stream",
     "text": [
      "Index(['id', 'commune', 'prefixe', 'section', 'numero', 'contenance',\n",
      "       'created', 'updated', 'Structure_', 'Nom', 'Pr�nom', 'Commune_pl',\n",
      "       'Code_Insee', 'Pr�fixe', 'Section_1', 'N�', 'Subdivisio', 'Surface_pa',\n",
      "       'Surface_pl', 'Ann�e_pl', 'Cultivars', 'Densit�', 'ID_peuplie',\n",
      "       'comment', 'geometry'],\n",
      "      dtype='object')\n"
     ]
    }
   ],
   "source": [
    "# Faire une copie de la couche\n",
    "dep47 = dep47_brut.copy()\n",
    "print(dep47.columns)"
   ]
  },
  {
   "cell_type": "markdown",
   "metadata": {},
   "source": [
    "#### **2.1 Sélectionner les colonnes**"
   ]
  },
  {
   "cell_type": "code",
   "execution_count": 5,
   "metadata": {},
   "outputs": [
    {
     "name": "stdout",
     "output_type": "stream",
     "text": [
      "Index(['id', 'Ann�e_pl', 'Cultivars', 'Densit�', 'ID_peuplie', 'comment',\n",
      "       'geometry'],\n",
      "      dtype='object')\n"
     ]
    }
   ],
   "source": [
    "# Sélectionnér les colonnes à conserver\n",
    "col_dep47 = ['id',\n",
    "             'Ann�e_pl',\n",
    "             'Cultivars',\n",
    "             'Densit�',\n",
    "             'ID_peuplie',\n",
    "             'comment',\n",
    "             'geometry'\n",
    "             ]\n",
    "\n",
    "# Filtrer les colonnes pour garder seulement celles qui sont nécessaires\n",
    "dep47 = dep47[col_dep47]\n",
    "\n",
    "# Afficher les colonnes filtrées\n",
    "print(dep47.columns)"
   ]
  },
  {
   "cell_type": "markdown",
   "metadata": {},
   "source": [
    "#### **2.2 Renommer les colonnes**"
   ]
  },
  {
   "cell_type": "code",
   "execution_count": 6,
   "metadata": {},
   "outputs": [
    {
     "name": "stdout",
     "output_type": "stream",
     "text": [
      "Colonnes après nettoyage et renommage:\n",
      "Index(['id_47', 'annee_plan', 'cultivar', 'densite', 'id_peulplie', 'comment',\n",
      "       'geometry'],\n",
      "      dtype='object')\n"
     ]
    }
   ],
   "source": [
    "# Créer un dictionnaire avec les nouveaux noms de colonnes\n",
    "nom_col_dep47 = {'id' : 'id_47',\n",
    "                 'Ann�e_pl' : 'annee_plan',\n",
    "                 'Cultivars' : 'cultivar',\n",
    "                 'Densit�' : 'densite',\n",
    "                 'ID_peuplie' : 'id_peulplie'\n",
    "                 }\n",
    "\n",
    "# Renommer les colonnes\n",
    "dep47.rename(columns=nom_col_dep47, inplace=True)\n",
    "# Afficher les nouvelles colonnes pour vérification\n",
    "print(\"Colonnes après nettoyage et renommage:\")\n",
    "print(dep47.columns)"
   ]
  },
  {
   "cell_type": "markdown",
   "metadata": {},
   "source": [
    "#### **2.3 Sélection de parcelles avec des cultivars uniques**"
   ]
  },
  {
   "cell_type": "code",
   "execution_count": 7,
   "metadata": {},
   "outputs": [
    {
     "name": "stdout",
     "output_type": "stream",
     "text": [
      "Raspalje - I45/51\n",
      "I45/51\n",
      "Koster - I45/51\n",
      "Alcinde\n",
      "Koster\n",
      "Dorskamp\n",
      "I45/51-Dorskamd-Alcinde\n",
      "Raspalje\n",
      "Polargo\n",
      "Raspalje-Polargo-I45/51\n",
      "Koster-Raspalje\n",
      "Koster-I45/51\n",
      "I214\n",
      "Polargo - Koster\n",
      "Koster-Polargo-Rona\n",
      "Polargo - Lambro\n",
      "Polargo-Raspalje-I45/51\n",
      "Koster-Polargo-I45/51\n",
      "Raspalje-Alcinde\n",
      "Soligo\n",
      "Raspalje - Soligo\n",
      "I45/51 - Raspalje\n",
      "I45/51 - rASPALJE\n",
      "I214 - LENA\n",
      "Polarco-I45/51-Dvina\n",
      "Polargo - A4A\n",
      "Koster - Polargo\n",
      "Raspalje-Koster\n",
      "Dorskamp-I45/5\n",
      "Dorskamp-Korster\n",
      "Koster - Raspalje\n"
     ]
    }
   ],
   "source": [
    "# Boucle pour afficher les valeurs uniques de la colonne 'cultivars'\n",
    "uniques_dep47 = dep47['cultivar'].unique()\n",
    "for unique in uniques_dep47:\n",
    "    print(unique)"
   ]
  },
  {
   "cell_type": "code",
   "execution_count": 8,
   "metadata": {},
   "outputs": [
    {
     "name": "stdout",
     "output_type": "stream",
     "text": [
      "Nombre total de lignes avant filtrage : 114\n",
      "Nombre de lignes avec un seul cultivar : 72\n",
      "I45/51\n",
      "Alcinde\n",
      "Koster\n",
      "Dorskamp\n",
      "Raspalje\n",
      "Polargo\n",
      "I214\n",
      "Soligo\n"
     ]
    },
    {
     "data": {
      "text/html": [
       "<div>\n",
       "<style scoped>\n",
       "    .dataframe tbody tr th:only-of-type {\n",
       "        vertical-align: middle;\n",
       "    }\n",
       "\n",
       "    .dataframe tbody tr th {\n",
       "        vertical-align: top;\n",
       "    }\n",
       "\n",
       "    .dataframe thead th {\n",
       "        text-align: right;\n",
       "    }\n",
       "</style>\n",
       "<table border=\"1\" class=\"dataframe\">\n",
       "  <thead>\n",
       "    <tr style=\"text-align: right;\">\n",
       "      <th></th>\n",
       "      <th>id_47</th>\n",
       "      <th>annee_plan</th>\n",
       "      <th>cultivar</th>\n",
       "      <th>densite</th>\n",
       "      <th>id_peulplie</th>\n",
       "      <th>comment</th>\n",
       "      <th>geometry</th>\n",
       "    </tr>\n",
       "  </thead>\n",
       "  <tbody>\n",
       "    <tr>\n",
       "      <th>1</th>\n",
       "      <td>472770000A0738</td>\n",
       "      <td>2010</td>\n",
       "      <td>I45/51</td>\n",
       "      <td>200</td>\n",
       "      <td>472770000A0738</td>\n",
       "      <td>redessinee</td>\n",
       "      <td>POLYGON ((460197.741 6381459.148, 460186.836 6...</td>\n",
       "    </tr>\n",
       "    <tr>\n",
       "      <th>3</th>\n",
       "      <td>472770000A0737</td>\n",
       "      <td>2010</td>\n",
       "      <td>I45/51</td>\n",
       "      <td>200</td>\n",
       "      <td>472770000A0737</td>\n",
       "      <td>redessinee</td>\n",
       "      <td>POLYGON ((460201.636 6381455.838, 460208.858 6...</td>\n",
       "    </tr>\n",
       "    <tr>\n",
       "      <th>4</th>\n",
       "      <td>472770000A0748</td>\n",
       "      <td>2010</td>\n",
       "      <td>Alcinde</td>\n",
       "      <td>200</td>\n",
       "      <td>472770000A0748</td>\n",
       "      <td>ok</td>\n",
       "      <td>POLYGON ((460182.340 6381608.834, 460173.209 6...</td>\n",
       "    </tr>\n",
       "    <tr>\n",
       "      <th>5</th>\n",
       "      <td>470100000A0042</td>\n",
       "      <td>2011</td>\n",
       "      <td>Koster</td>\n",
       "      <td>200</td>\n",
       "      <td>470100000A0042</td>\n",
       "      <td>redessinee seule une partie conservee</td>\n",
       "      <td>POLYGON ((461223.107 6367436.887, 461216.981 6...</td>\n",
       "    </tr>\n",
       "    <tr>\n",
       "      <th>6</th>\n",
       "      <td>472770000A0739</td>\n",
       "      <td>2010</td>\n",
       "      <td>I45/51</td>\n",
       "      <td>200</td>\n",
       "      <td>472770000A0739</td>\n",
       "      <td>ok</td>\n",
       "      <td>POLYGON ((460133.672 6381680.566, 460126.580 6...</td>\n",
       "    </tr>\n",
       "  </tbody>\n",
       "</table>\n",
       "</div>"
      ],
      "text/plain": [
       "            id_47  annee_plan cultivar  densite     id_peulplie  \\\n",
       "1  472770000A0738        2010   I45/51      200  472770000A0738   \n",
       "3  472770000A0737        2010   I45/51      200  472770000A0737   \n",
       "4  472770000A0748        2010  Alcinde      200  472770000A0748   \n",
       "5  470100000A0042        2011   Koster      200  470100000A0042   \n",
       "6  472770000A0739        2010   I45/51      200  472770000A0739   \n",
       "\n",
       "                                 comment  \\\n",
       "1                             redessinee   \n",
       "3                             redessinee   \n",
       "4                                     ok   \n",
       "5  redessinee seule une partie conservee   \n",
       "6                                     ok   \n",
       "\n",
       "                                            geometry  \n",
       "1  POLYGON ((460197.741 6381459.148, 460186.836 6...  \n",
       "3  POLYGON ((460201.636 6381455.838, 460208.858 6...  \n",
       "4  POLYGON ((460182.340 6381608.834, 460173.209 6...  \n",
       "5  POLYGON ((461223.107 6367436.887, 461216.981 6...  \n",
       "6  POLYGON ((460133.672 6381680.566, 460126.580 6...  "
      ]
     },
     "execution_count": 8,
     "metadata": {},
     "output_type": "execute_result"
    }
   ],
   "source": [
    "# Fonction pour vérifier si la valeur contient exactement un cultivar\n",
    "def seul_cultivar(valeur):\n",
    "    # Vérifie d'abord si la valeur est une chaîne de caractères\n",
    "    if not isinstance(valeur, str):\n",
    "        return False\n",
    "    # Si la cellule est vide, contient 'nan', ou contient seulement des espaces, retourner False\n",
    "    if not valeur or valeur.strip().lower() == \"nan\" or valeur.strip() == \"\":\n",
    "        return False\n",
    "    # Si la valeur contient une virgule, les mots 'melange', 'essai', 'divers', 'et', ou 'Vesten Dellinois', retourner False\n",
    "    if ',' in valeur or re.search(r'\\b(melange|essai|essais|divers|et)\\b', valeur, re.IGNORECASE) or \"vesten dellinois\".lower() in valeur.lower():\n",
    "        return False\n",
    "    # Exclure 'Noyer/robinier', mas NÃO exclua 'I45/51'\n",
    "    if re.search(r'noyer/robinier', valeur.lower()):\n",
    "        return False\n",
    "    # Si la valeur contient des numéros au format d'essai (ex. 1000-1, 0685-16), retourner False\n",
    "    if re.search(r'\\d{3,4}-\\d{1,2}', valeur):\n",
    "        return False\n",
    "    # Supprime les espaces superflus et convertit en minuscules\n",
    "    valeur = valeur.strip().lower()\n",
    "    # Divise la chaîne sur des tirets (avec ou sans espace) ou des espaces\n",
    "    cultivars = re.split(r'\\s*-\\s*', valeur)\n",
    "    # Vérifie s'il y a exactement un cultivar unique\n",
    "    return len(set(cultivars)) == 1\n",
    "\n",
    "\n",
    "# Filtrer les lignes avec un seul cultivar dans la colonne 'cultivar'\n",
    "dep47_cultivar_unique = dep47[dep47['cultivar'].apply(seul_cultivar)]\n",
    "\n",
    "# Affiche les premières lignes pour vérifier le résultat\n",
    "print(\"Nombre total de lignes avant filtrage :\", len(dep47))\n",
    "print(\"Nombre de lignes avec un seul cultivar :\", len(dep47_cultivar_unique))\n",
    "\n",
    "# Boucle pour afficher les valeurs uniques de la colonne 'cultivars'\n",
    "uniques_dep47_single_cultivar = dep47_cultivar_unique['cultivar'].unique()\n",
    "for unique_clean in uniques_dep47_single_cultivar:\n",
    "    print(unique_clean)\n",
    "    \n",
    "# Afficher les premières lines\n",
    "dep47_cultivar_unique.head()"
   ]
  },
  {
   "cell_type": "markdown",
   "metadata": {},
   "source": [
    "### **3. Nettoyer le dep73**"
   ]
  },
  {
   "cell_type": "code",
   "execution_count": 9,
   "metadata": {},
   "outputs": [
    {
     "name": "stdout",
     "output_type": "stream",
     "text": [
      "Index(['fid', 'iidtn_frt', 'llib_frt', 'ccod_prf', 'cinse_dep', 'Annee_plan',\n",
      "       'Cultivar1', 'Age1', 'Annee_pl_1', 'Cultivar2', 'Age2', 'geometry'],\n",
      "      dtype='object')\n"
     ]
    },
    {
     "data": {
      "text/html": [
       "<div>\n",
       "<style scoped>\n",
       "    .dataframe tbody tr th:only-of-type {\n",
       "        vertical-align: middle;\n",
       "    }\n",
       "\n",
       "    .dataframe tbody tr th {\n",
       "        vertical-align: top;\n",
       "    }\n",
       "\n",
       "    .dataframe thead th {\n",
       "        text-align: right;\n",
       "    }\n",
       "</style>\n",
       "<table border=\"1\" class=\"dataframe\">\n",
       "  <thead>\n",
       "    <tr style=\"text-align: right;\">\n",
       "      <th></th>\n",
       "      <th>fid</th>\n",
       "      <th>iidtn_frt</th>\n",
       "      <th>llib_frt</th>\n",
       "      <th>ccod_prf</th>\n",
       "      <th>cinse_dep</th>\n",
       "      <th>Annee_plan</th>\n",
       "      <th>Cultivar1</th>\n",
       "      <th>Age1</th>\n",
       "      <th>Annee_pl_1</th>\n",
       "      <th>Cultivar2</th>\n",
       "      <th>Age2</th>\n",
       "      <th>geometry</th>\n",
       "    </tr>\n",
       "  </thead>\n",
       "  <tbody>\n",
       "    <tr>\n",
       "      <th>0</th>\n",
       "      <td>1.0</td>\n",
       "      <td>F20305Y</td>\n",
       "      <td>For�t domaniale de Chautagne</td>\n",
       "      <td>112</td>\n",
       "      <td>73</td>\n",
       "      <td>2009</td>\n",
       "      <td>Raspage, Gaver, Dorskamp, A4A, Soligo</td>\n",
       "      <td>15.0</td>\n",
       "      <td>NaN</td>\n",
       "      <td>NaN</td>\n",
       "      <td>NaN</td>\n",
       "      <td>POLYGON ((920031.391 6533890.964, 920009.900 6...</td>\n",
       "    </tr>\n",
       "    <tr>\n",
       "      <th>1</th>\n",
       "      <td>2.0</td>\n",
       "      <td>F20305Y</td>\n",
       "      <td>For�t domaniale de Chautagne</td>\n",
       "      <td>113</td>\n",
       "      <td>73</td>\n",
       "      <td>2019</td>\n",
       "      <td>Triplo, Vesten</td>\n",
       "      <td>5.0</td>\n",
       "      <td>NaN</td>\n",
       "      <td>NaN</td>\n",
       "      <td>NaN</td>\n",
       "      <td>POLYGON ((920057.400 6534027.100, 920241.814 6...</td>\n",
       "    </tr>\n",
       "  </tbody>\n",
       "</table>\n",
       "</div>"
      ],
      "text/plain": [
       "   fid iidtn_frt                      llib_frt ccod_prf cinse_dep  Annee_plan  \\\n",
       "0  1.0   F20305Y  For�t domaniale de Chautagne      112        73        2009   \n",
       "1  2.0   F20305Y  For�t domaniale de Chautagne      113        73        2019   \n",
       "\n",
       "                               Cultivar1  Age1  Annee_pl_1 Cultivar2  Age2  \\\n",
       "0  Raspage, Gaver, Dorskamp, A4A, Soligo  15.0         NaN       NaN   NaN   \n",
       "1                         Triplo, Vesten   5.0         NaN       NaN   NaN   \n",
       "\n",
       "                                            geometry  \n",
       "0  POLYGON ((920031.391 6533890.964, 920009.900 6...  \n",
       "1  POLYGON ((920057.400 6534027.100, 920241.814 6...  "
      ]
     },
     "execution_count": 9,
     "metadata": {},
     "output_type": "execute_result"
    }
   ],
   "source": [
    "# Faire une copie de la couche\n",
    "dep73 = dep73_brut.copy()\n",
    "print(dep73.columns)\n",
    "dep73.head(2)"
   ]
  },
  {
   "cell_type": "markdown",
   "metadata": {},
   "source": [
    "#### **3.1 Sélectionner les colonnes**"
   ]
  },
  {
   "cell_type": "code",
   "execution_count": 10,
   "metadata": {},
   "outputs": [
    {
     "name": "stdout",
     "output_type": "stream",
     "text": [
      "Index(['fid', 'Annee_plan', 'Cultivar1', 'geometry'], dtype='object')\n"
     ]
    }
   ],
   "source": [
    "# Sélectionnér les colonnes à conserver\n",
    "col_dep73 = ['fid',\n",
    "             'Annee_plan',\n",
    "             'Cultivar1',\n",
    "             'geometry'\n",
    "             ]\n",
    "\n",
    "# Filtrer les colonnes pour garder seulement celles qui sont nécessaires\n",
    "dep73 = dep73[col_dep73]\n",
    "\n",
    "# Afficher les colonnes filtrées\n",
    "print(dep73.columns)"
   ]
  },
  {
   "cell_type": "markdown",
   "metadata": {},
   "source": [
    "#### **3.2 Renommer les colonnes**"
   ]
  },
  {
   "cell_type": "code",
   "execution_count": 11,
   "metadata": {},
   "outputs": [
    {
     "name": "stdout",
     "output_type": "stream",
     "text": [
      "Colonnes après nettoyage et renommage:\n",
      "Index(['id_73', 'annee_plan', 'cultivar', 'geometry'], dtype='object')\n"
     ]
    }
   ],
   "source": [
    "# Créer un dictionnaire avec les nouveaux noms de colonnes\n",
    "nom_col_dep73 = {'fid' : 'id_73',\n",
    "                 'Annee_plan' : 'annee_plan',\n",
    "                 'Cultivar1' : 'cultivar'\n",
    "                 }\n",
    "\n",
    "# Renommer les colonnes\n",
    "dep73.rename(columns=nom_col_dep73, inplace=True)\n",
    "\n",
    "# Afficher les nouvelles colonnes pour vérification\n",
    "print(\"Colonnes après nettoyage et renommage:\")\n",
    "print(dep73.columns)"
   ]
  },
  {
   "cell_type": "markdown",
   "metadata": {},
   "source": [
    "#### **3.3 Sélection de parcelles avec des cultivars uniques**"
   ]
  },
  {
   "cell_type": "code",
   "execution_count": 12,
   "metadata": {},
   "outputs": [
    {
     "name": "stdout",
     "output_type": "stream",
     "text": [
      "Raspage, Gaver, Dorskamp, A4A, Soligo\n",
      "Triplo, Vesten\n",
      "Flevo\n",
      "Dorskamp\n",
      "Koster\n",
      "Soligo, Dellinois\n",
      "Soligo\n",
      "Flevo, Dorskamp\n",
      "Dorskamp, Raspage, Flevo\n",
      "Gaver, Flevo, Raspage\n",
      "Flevo, Dorskamp, A4A\n",
      "Vesten\n",
      "Cemagref\n",
      "Dorskamp, Gaver\n",
      "Triplo\n",
      "Koster, Soligo, A4A\n",
      "Gaver, Triplo, Soligo\n",
      "Gaver, Dorskamp, Soligo\n",
      "Vesten Dellinois\n",
      "Flevo, Gaver\n",
      "Dorskamps, Gaver\n",
      "Dorskamp, Bara, A4A\n",
      "A4A, Koster, Soligo, Dorskamp, Flevo\n",
      "Koster, Dorskamp, Flévo\n",
      "Gaver, Triplo\n",
      "Dorskamp, Flevo\n",
      "Koster, Dorskamp, Flevo\n",
      "Triplo, Koster\n",
      "Triplo, Bara, A4A, Soligo\n",
      "Soligo, Delinoi, Diva, Dano\n",
      "Rona, Soligo, Flevo Dorskamp\n",
      "Raspage\n",
      "Soligo, Diva\n",
      "Soligo, Triplo, Tucano\n",
      "Bara, Flevo, Raspage, Koster\n",
      "Dorskamp, Flevo, Raspage\n",
      "Raspage, Flevo\n",
      "Flevo, Dorskamp, Gaver\n",
      "Flevo, Gaver, Dorskamp\n",
      "Gaver, Raspage, Triplo, HooGwor\n",
      "Soligo, Triplo, Koster\n",
      "Dorskamp, FCBA\n",
      "Koster, A4A\n",
      "Faux Gaver, Dorskamp\n",
      "Dellinois, Koster\n",
      "Dorskamp, Triplo, Soligo\n",
      "Faux Gaver\n",
      "Hoo Gwor, Gaver, A4A\n",
      "9 Clones\n",
      "Triplo, Flevo, Gaver\n",
      "Dellinois, Tucano\n",
      "Rona, Tucano\n"
     ]
    }
   ],
   "source": [
    "# Boucle pour afficher les valeurs uniques de la colonne 'cultivars'\n",
    "uniques_dep73 = dep73['cultivar'].unique()\n",
    "for unique in uniques_dep73:\n",
    "    print(unique)"
   ]
  },
  {
   "cell_type": "code",
   "execution_count": 13,
   "metadata": {},
   "outputs": [
    {
     "name": "stdout",
     "output_type": "stream",
     "text": [
      "Nombre total de lignes avant filtrage : 73\n",
      "Nombre de lignes avec un seul cultivar : 26\n",
      "Flevo\n",
      "Dorskamp\n",
      "Koster\n",
      "Soligo\n",
      "Vesten\n",
      "Cemagref\n",
      "Triplo\n",
      "Raspage\n",
      "Faux Gaver\n",
      "9 Clones\n"
     ]
    },
    {
     "data": {
      "text/html": [
       "<div>\n",
       "<style scoped>\n",
       "    .dataframe tbody tr th:only-of-type {\n",
       "        vertical-align: middle;\n",
       "    }\n",
       "\n",
       "    .dataframe tbody tr th {\n",
       "        vertical-align: top;\n",
       "    }\n",
       "\n",
       "    .dataframe thead th {\n",
       "        text-align: right;\n",
       "    }\n",
       "</style>\n",
       "<table border=\"1\" class=\"dataframe\">\n",
       "  <thead>\n",
       "    <tr style=\"text-align: right;\">\n",
       "      <th></th>\n",
       "      <th>id_73</th>\n",
       "      <th>annee_plan</th>\n",
       "      <th>cultivar</th>\n",
       "      <th>geometry</th>\n",
       "    </tr>\n",
       "  </thead>\n",
       "  <tbody>\n",
       "    <tr>\n",
       "      <th>2</th>\n",
       "      <td>3.0</td>\n",
       "      <td>2000</td>\n",
       "      <td>Flevo</td>\n",
       "      <td>POLYGON ((919474.367 6532213.335, 919673.281 6...</td>\n",
       "    </tr>\n",
       "    <tr>\n",
       "      <th>3</th>\n",
       "      <td>4.0</td>\n",
       "      <td>2002</td>\n",
       "      <td>Dorskamp</td>\n",
       "      <td>POLYGON ((919495.629 6532313.795, 919689.900 6...</td>\n",
       "    </tr>\n",
       "    <tr>\n",
       "      <th>4</th>\n",
       "      <td>5.0</td>\n",
       "      <td>2022</td>\n",
       "      <td>Koster</td>\n",
       "      <td>POLYGON ((918327.900 6530920.200, 918327.900 6...</td>\n",
       "    </tr>\n",
       "    <tr>\n",
       "      <th>6</th>\n",
       "      <td>7.0</td>\n",
       "      <td>2019</td>\n",
       "      <td>Soligo</td>\n",
       "      <td>POLYGON ((919465.518 6533574.488, 919267.636 6...</td>\n",
       "    </tr>\n",
       "    <tr>\n",
       "      <th>12</th>\n",
       "      <td>13.0</td>\n",
       "      <td>2022</td>\n",
       "      <td>Vesten</td>\n",
       "      <td>POLYGON ((918138.800 6530729.700, 918129.951 6...</td>\n",
       "    </tr>\n",
       "  </tbody>\n",
       "</table>\n",
       "</div>"
      ],
      "text/plain": [
       "    id_73  annee_plan  cultivar  \\\n",
       "2     3.0        2000     Flevo   \n",
       "3     4.0        2002  Dorskamp   \n",
       "4     5.0        2022    Koster   \n",
       "6     7.0        2019    Soligo   \n",
       "12   13.0        2022    Vesten   \n",
       "\n",
       "                                             geometry  \n",
       "2   POLYGON ((919474.367 6532213.335, 919673.281 6...  \n",
       "3   POLYGON ((919495.629 6532313.795, 919689.900 6...  \n",
       "4   POLYGON ((918327.900 6530920.200, 918327.900 6...  \n",
       "6   POLYGON ((919465.518 6533574.488, 919267.636 6...  \n",
       "12  POLYGON ((918138.800 6530729.700, 918129.951 6...  "
      ]
     },
     "execution_count": 13,
     "metadata": {},
     "output_type": "execute_result"
    }
   ],
   "source": [
    "# Filtrer les lignes avec un seul cultivar dans la colonne 'cultivars'\n",
    "dep73_cultivar_unique = dep73[dep73['cultivar'].apply(seul_cultivar)]\n",
    "\n",
    "# Affiche les premières lignes pour vérifier le résultat\n",
    "print(\"Nombre total de lignes avant filtrage :\", len(dep73))\n",
    "print(\"Nombre de lignes avec un seul cultivar :\", len(dep73_cultivar_unique))\n",
    "\n",
    "# Boucle pour afficher les valeurs uniques de la colonne 'cultivars'\n",
    "uniques_dep73_single_cultivar = dep73_cultivar_unique['cultivar'].unique()\n",
    "for unique_73clean in uniques_dep73_single_cultivar:\n",
    "    print(unique_73clean)\n",
    "    \n",
    "# Afficher les premières lines\n",
    "dep73_cultivar_unique.head()"
   ]
  },
  {
   "cell_type": "markdown",
   "metadata": {},
   "source": [
    "### **4. Nettoyer le dep82 - Borde Basse**"
   ]
  },
  {
   "cell_type": "code",
   "execution_count": 14,
   "metadata": {},
   "outputs": [
    {
     "name": "stdout",
     "output_type": "stream",
     "text": [
      "Index(['Parcelle', 'Sous_parce', 'Type_peupl', 'Essence', 'Année_pla',\n",
      "       'Surface', 'Surf_ha', 'ID_user', 'geometry'],\n",
      "      dtype='object')\n"
     ]
    },
    {
     "data": {
      "text/html": [
       "<div>\n",
       "<style scoped>\n",
       "    .dataframe tbody tr th:only-of-type {\n",
       "        vertical-align: middle;\n",
       "    }\n",
       "\n",
       "    .dataframe tbody tr th {\n",
       "        vertical-align: top;\n",
       "    }\n",
       "\n",
       "    .dataframe thead th {\n",
       "        text-align: right;\n",
       "    }\n",
       "</style>\n",
       "<table border=\"1\" class=\"dataframe\">\n",
       "  <thead>\n",
       "    <tr style=\"text-align: right;\">\n",
       "      <th></th>\n",
       "      <th>Parcelle</th>\n",
       "      <th>Sous_parce</th>\n",
       "      <th>Type_peupl</th>\n",
       "      <th>Essence</th>\n",
       "      <th>Année_pla</th>\n",
       "      <th>Surface</th>\n",
       "      <th>Surf_ha</th>\n",
       "      <th>ID_user</th>\n",
       "      <th>geometry</th>\n",
       "    </tr>\n",
       "  </thead>\n",
       "  <tbody>\n",
       "    <tr>\n",
       "      <th>0</th>\n",
       "      <td>NaN</td>\n",
       "      <td>NaN</td>\n",
       "      <td>NaN</td>\n",
       "      <td>Raspalje</td>\n",
       "      <td>2020</td>\n",
       "      <td>NaN</td>\n",
       "      <td>0.262</td>\n",
       "      <td>1</td>\n",
       "      <td>POLYGON ((544260.145 6333595.096, 544320.860 6...</td>\n",
       "    </tr>\n",
       "    <tr>\n",
       "      <th>1</th>\n",
       "      <td>NaN</td>\n",
       "      <td>NaN</td>\n",
       "      <td>NaN</td>\n",
       "      <td>Noyer hybride</td>\n",
       "      <td>1990</td>\n",
       "      <td>NaN</td>\n",
       "      <td>5.528</td>\n",
       "      <td>2</td>\n",
       "      <td>POLYGON ((544224.090 6333655.140, 544235.930 6...</td>\n",
       "    </tr>\n",
       "  </tbody>\n",
       "</table>\n",
       "</div>"
      ],
      "text/plain": [
       "  Parcelle Sous_parce Type_peupl        Essence  Année_pla  Surface  Surf_ha  \\\n",
       "0      NaN        NaN        NaN       Raspalje       2020      NaN    0.262   \n",
       "1      NaN        NaN        NaN  Noyer hybride       1990      NaN    5.528   \n",
       "\n",
       "   ID_user                                           geometry  \n",
       "0        1  POLYGON ((544260.145 6333595.096, 544320.860 6...  \n",
       "1        2  POLYGON ((544224.090 6333655.140, 544235.930 6...  "
      ]
     },
     "execution_count": 14,
     "metadata": {},
     "output_type": "execute_result"
    }
   ],
   "source": [
    "# Faire une copie de la couche de la région Borde Basse\n",
    "dep82_bb = dep82_bb_brut.copy()\n",
    "print(dep82_bb.columns)\n",
    "dep82_bb.head(2)"
   ]
  },
  {
   "cell_type": "markdown",
   "metadata": {},
   "source": [
    "#### **41. Sélectionner les colonnes dep82 - Borde Basse**"
   ]
  },
  {
   "cell_type": "code",
   "execution_count": 15,
   "metadata": {},
   "outputs": [
    {
     "name": "stdout",
     "output_type": "stream",
     "text": [
      "Index(['ID_user', 'Essence', 'Année_pla', 'geometry'], dtype='object')\n"
     ]
    },
    {
     "data": {
      "text/html": [
       "<div>\n",
       "<style scoped>\n",
       "    .dataframe tbody tr th:only-of-type {\n",
       "        vertical-align: middle;\n",
       "    }\n",
       "\n",
       "    .dataframe tbody tr th {\n",
       "        vertical-align: top;\n",
       "    }\n",
       "\n",
       "    .dataframe thead th {\n",
       "        text-align: right;\n",
       "    }\n",
       "</style>\n",
       "<table border=\"1\" class=\"dataframe\">\n",
       "  <thead>\n",
       "    <tr style=\"text-align: right;\">\n",
       "      <th></th>\n",
       "      <th>ID_user</th>\n",
       "      <th>Essence</th>\n",
       "      <th>Année_pla</th>\n",
       "      <th>geometry</th>\n",
       "    </tr>\n",
       "  </thead>\n",
       "  <tbody>\n",
       "    <tr>\n",
       "      <th>0</th>\n",
       "      <td>1</td>\n",
       "      <td>Raspalje</td>\n",
       "      <td>2020</td>\n",
       "      <td>POLYGON ((544260.145 6333595.096, 544320.860 6...</td>\n",
       "    </tr>\n",
       "    <tr>\n",
       "      <th>1</th>\n",
       "      <td>2</td>\n",
       "      <td>Noyer hybride</td>\n",
       "      <td>1990</td>\n",
       "      <td>POLYGON ((544224.090 6333655.140, 544235.930 6...</td>\n",
       "    </tr>\n",
       "  </tbody>\n",
       "</table>\n",
       "</div>"
      ],
      "text/plain": [
       "   ID_user        Essence  Année_pla  \\\n",
       "0        1       Raspalje       2020   \n",
       "1        2  Noyer hybride       1990   \n",
       "\n",
       "                                            geometry  \n",
       "0  POLYGON ((544260.145 6333595.096, 544320.860 6...  \n",
       "1  POLYGON ((544224.090 6333655.140, 544235.930 6...  "
      ]
     },
     "execution_count": 15,
     "metadata": {},
     "output_type": "execute_result"
    }
   ],
   "source": [
    "# Sélectionnér les colonnes à conserver\n",
    "col_dep82_bb = ['ID_user',\n",
    "                'Essence',\n",
    "                'Année_pla',\n",
    "                'geometry'\n",
    "                ]\n",
    "\n",
    "# Filtrer les colonnes pour garder seulement celles qui sont nécessaires\n",
    "dep82_bb = dep82_bb[col_dep82_bb]\n",
    "\n",
    "# Afficher les colonnes filtrées\n",
    "print(dep82_bb.columns)\n",
    "dep82_bb.head(2)"
   ]
  },
  {
   "cell_type": "markdown",
   "metadata": {},
   "source": [
    "#### **4.2 Renommer les colonnes**"
   ]
  },
  {
   "cell_type": "code",
   "execution_count": 16,
   "metadata": {},
   "outputs": [
    {
     "name": "stdout",
     "output_type": "stream",
     "text": [
      "Colonnes après nettoyage et renommage:\n",
      "Index(['id_82_bb', 'cultivar', 'annee_plan', 'geometry'], dtype='object')\n"
     ]
    }
   ],
   "source": [
    "# Créer un dictionnaire avec les nouveaux noms de colonnes\n",
    "nom_col_dep82_bb = {'ID_user' : 'id_82_bb',\n",
    "                 'Année_pla' : 'annee_plan',\n",
    "                 'Essence' : 'cultivar'\n",
    "                 }\n",
    "\n",
    "# Renommer les colonnes\n",
    "dep82_bb.rename(columns=nom_col_dep82_bb, inplace=True)\n",
    "\n",
    "# Afficher les nouvelles colonnes pour vérification\n",
    "print(\"Colonnes après nettoyage et renommage:\")\n",
    "print(dep82_bb.columns)"
   ]
  },
  {
   "cell_type": "markdown",
   "metadata": {},
   "source": [
    "#### **4.3 Sélection des parcelles avec une seul cultivar**"
   ]
  },
  {
   "cell_type": "code",
   "execution_count": 17,
   "metadata": {},
   "outputs": [
    {
     "name": "stdout",
     "output_type": "stream",
     "text": [
      "Raspalje\n",
      "Noyer hybride\n",
      "Futaie melangee\n",
      "Cèdre\n",
      "I 45/51\n",
      "Melange PEU/NOY\n",
      "Melange NOY/ROB\n",
      "Robinier\n",
      "I 214\n",
      "Polargo\n",
      "Koster\n",
      "Rona\n",
      "AF8\n",
      "Triplo\n",
      "Soligo\n",
      "I 2014\n",
      "A4A\n",
      "Alcinde\n",
      "Lambro\n",
      "Degrosso\n",
      "Dano\n",
      "Garo\n",
      "Ludo\n",
      "San martino\n",
      "Tucano\n",
      "Diva\n",
      "Senna\n",
      "Imola\n",
      "Moleto\n",
      "Moncalvo\n",
      "Aleramo\n"
     ]
    }
   ],
   "source": [
    "# Boucle pour afficher les valeurs uniques de la colonne 'cultivars'\n",
    "uniques_dep82_bb = dep82_bb['cultivar'].unique()\n",
    "for unique_82_bb in uniques_dep82_bb:\n",
    "    print(unique_82_bb)"
   ]
  },
  {
   "cell_type": "code",
   "execution_count": 18,
   "metadata": {},
   "outputs": [
    {
     "name": "stdout",
     "output_type": "stream",
     "text": [
      "Nombre total de lignes avant filtrage : 54\n",
      "Nombre de lignes avec un seul cultivar : 52\n",
      "I45/51\n",
      "Alcinde\n",
      "Koster\n",
      "Dorskamp\n",
      "Raspalje\n",
      "Polargo\n",
      "I214\n",
      "Soligo\n"
     ]
    },
    {
     "data": {
      "text/html": [
       "<div>\n",
       "<style scoped>\n",
       "    .dataframe tbody tr th:only-of-type {\n",
       "        vertical-align: middle;\n",
       "    }\n",
       "\n",
       "    .dataframe tbody tr th {\n",
       "        vertical-align: top;\n",
       "    }\n",
       "\n",
       "    .dataframe thead th {\n",
       "        text-align: right;\n",
       "    }\n",
       "</style>\n",
       "<table border=\"1\" class=\"dataframe\">\n",
       "  <thead>\n",
       "    <tr style=\"text-align: right;\">\n",
       "      <th></th>\n",
       "      <th>id_82_bb</th>\n",
       "      <th>cultivar</th>\n",
       "      <th>annee_plan</th>\n",
       "      <th>geometry</th>\n",
       "    </tr>\n",
       "  </thead>\n",
       "  <tbody>\n",
       "    <tr>\n",
       "      <th>0</th>\n",
       "      <td>1</td>\n",
       "      <td>Raspalje</td>\n",
       "      <td>2020</td>\n",
       "      <td>POLYGON ((544260.145 6333595.096, 544320.860 6...</td>\n",
       "    </tr>\n",
       "    <tr>\n",
       "      <th>1</th>\n",
       "      <td>2</td>\n",
       "      <td>Noyer hybride</td>\n",
       "      <td>1990</td>\n",
       "      <td>POLYGON ((544224.090 6333655.140, 544235.930 6...</td>\n",
       "    </tr>\n",
       "    <tr>\n",
       "      <th>2</th>\n",
       "      <td>3</td>\n",
       "      <td>Futaie melangee</td>\n",
       "      <td>2021</td>\n",
       "      <td>POLYGON ((544686.859 6333334.250, 544702.614 6...</td>\n",
       "    </tr>\n",
       "    <tr>\n",
       "      <th>3</th>\n",
       "      <td>4</td>\n",
       "      <td>Cèdre</td>\n",
       "      <td>2009</td>\n",
       "      <td>POLYGON ((544827.303 6333279.698, 544889.980 6...</td>\n",
       "    </tr>\n",
       "    <tr>\n",
       "      <th>4</th>\n",
       "      <td>5</td>\n",
       "      <td>I 45/51</td>\n",
       "      <td>2012</td>\n",
       "      <td>POLYGON ((544817.900 6333572.410, 544847.780 6...</td>\n",
       "    </tr>\n",
       "  </tbody>\n",
       "</table>\n",
       "</div>"
      ],
      "text/plain": [
       "   id_82_bb         cultivar  annee_plan  \\\n",
       "0         1         Raspalje        2020   \n",
       "1         2    Noyer hybride        1990   \n",
       "2         3  Futaie melangee        2021   \n",
       "3         4            Cèdre        2009   \n",
       "4         5          I 45/51        2012   \n",
       "\n",
       "                                            geometry  \n",
       "0  POLYGON ((544260.145 6333595.096, 544320.860 6...  \n",
       "1  POLYGON ((544224.090 6333655.140, 544235.930 6...  \n",
       "2  POLYGON ((544686.859 6333334.250, 544702.614 6...  \n",
       "3  POLYGON ((544827.303 6333279.698, 544889.980 6...  \n",
       "4  POLYGON ((544817.900 6333572.410, 544847.780 6...  "
      ]
     },
     "execution_count": 18,
     "metadata": {},
     "output_type": "execute_result"
    }
   ],
   "source": [
    "# Filtrer les lignes avec un seul cultivar dans la colonne 'cultivar'\n",
    "dep82_bb_cultivar_unique = dep82_bb[dep82_bb['cultivar'].apply(seul_cultivar)]\n",
    "\n",
    "# Affiche les premières lignes pour vérifier le résultat\n",
    "print(\"Nombre total de lignes avant filtrage :\", len(dep82_bb))\n",
    "print(\"Nombre de lignes avec un seul cultivar :\", len(dep82_bb_cultivar_unique))\n",
    "\n",
    "# Boucle pour afficher les valeurs uniques de la colonne 'cultivars'\n",
    "uniques_dep82_bb_single_cultivar = dep47_cultivar_unique['cultivar'].unique()\n",
    "for unique_dep82_bb_single_cultivar in uniques_dep82_bb_single_cultivar:\n",
    "    print(unique_dep82_bb_single_cultivar)\n",
    "    \n",
    "# Afficher les premières lines\n",
    "dep82_bb_cultivar_unique.head()"
   ]
  },
  {
   "cell_type": "markdown",
   "metadata": {},
   "source": [
    "### **5. Nettoyer le dep82 - Saint Pierre**"
   ]
  },
  {
   "cell_type": "code",
   "execution_count": 19,
   "metadata": {},
   "outputs": [
    {
     "name": "stdout",
     "output_type": "stream",
     "text": [
      "Index(['parcelle_F', 'Type_ppt', 'Sous_parce', 'Espece', 'Annee', 'Surface_ha',\n",
      "       'ID_user', 'geometry'],\n",
      "      dtype='object')\n"
     ]
    },
    {
     "data": {
      "text/html": [
       "<div>\n",
       "<style scoped>\n",
       "    .dataframe tbody tr th:only-of-type {\n",
       "        vertical-align: middle;\n",
       "    }\n",
       "\n",
       "    .dataframe tbody tr th {\n",
       "        vertical-align: top;\n",
       "    }\n",
       "\n",
       "    .dataframe thead th {\n",
       "        text-align: right;\n",
       "    }\n",
       "</style>\n",
       "<table border=\"1\" class=\"dataframe\">\n",
       "  <thead>\n",
       "    <tr style=\"text-align: right;\">\n",
       "      <th></th>\n",
       "      <th>parcelle_F</th>\n",
       "      <th>Type_ppt</th>\n",
       "      <th>Sous_parce</th>\n",
       "      <th>Espece</th>\n",
       "      <th>Annee</th>\n",
       "      <th>Surface_ha</th>\n",
       "      <th>ID_user</th>\n",
       "      <th>geometry</th>\n",
       "    </tr>\n",
       "  </thead>\n",
       "  <tbody>\n",
       "    <tr>\n",
       "      <th>0</th>\n",
       "      <td>NaN</td>\n",
       "      <td>NaN</td>\n",
       "      <td>NaN</td>\n",
       "      <td>Raspalje</td>\n",
       "      <td>2017</td>\n",
       "      <td>0.819</td>\n",
       "      <td>1</td>\n",
       "      <td>POLYGON ((559437.988 6303972.233, 559516.300 6...</td>\n",
       "    </tr>\n",
       "    <tr>\n",
       "      <th>1</th>\n",
       "      <td>NaN</td>\n",
       "      <td>NaN</td>\n",
       "      <td>NaN</td>\n",
       "      <td>Soligo</td>\n",
       "      <td>2017</td>\n",
       "      <td>1.017</td>\n",
       "      <td>2</td>\n",
       "      <td>POLYGON ((559453.650 6303798.828, 559421.740 6...</td>\n",
       "    </tr>\n",
       "  </tbody>\n",
       "</table>\n",
       "</div>"
      ],
      "text/plain": [
       "  parcelle_F Type_ppt  Sous_parce    Espece  Annee  Surface_ha  ID_user  \\\n",
       "0        NaN      NaN         NaN  Raspalje   2017       0.819        1   \n",
       "1        NaN      NaN         NaN    Soligo   2017       1.017        2   \n",
       "\n",
       "                                            geometry  \n",
       "0  POLYGON ((559437.988 6303972.233, 559516.300 6...  \n",
       "1  POLYGON ((559453.650 6303798.828, 559421.740 6...  "
      ]
     },
     "execution_count": 19,
     "metadata": {},
     "output_type": "execute_result"
    }
   ],
   "source": [
    "# Faire une copie de la couche de la région Borde Basse\n",
    "dep82_sp = dep82_sp_brut.copy()\n",
    "print(dep82_sp.columns)\n",
    "dep82_sp.head(2)"
   ]
  },
  {
   "cell_type": "markdown",
   "metadata": {},
   "source": [
    "#### **5.1 Sélectionner les colonnes**"
   ]
  },
  {
   "cell_type": "code",
   "execution_count": 20,
   "metadata": {},
   "outputs": [
    {
     "name": "stdout",
     "output_type": "stream",
     "text": [
      "Index(['ID_user', 'Espece', 'Annee', 'geometry'], dtype='object')\n"
     ]
    },
    {
     "data": {
      "text/html": [
       "<div>\n",
       "<style scoped>\n",
       "    .dataframe tbody tr th:only-of-type {\n",
       "        vertical-align: middle;\n",
       "    }\n",
       "\n",
       "    .dataframe tbody tr th {\n",
       "        vertical-align: top;\n",
       "    }\n",
       "\n",
       "    .dataframe thead th {\n",
       "        text-align: right;\n",
       "    }\n",
       "</style>\n",
       "<table border=\"1\" class=\"dataframe\">\n",
       "  <thead>\n",
       "    <tr style=\"text-align: right;\">\n",
       "      <th></th>\n",
       "      <th>ID_user</th>\n",
       "      <th>Espece</th>\n",
       "      <th>Annee</th>\n",
       "      <th>geometry</th>\n",
       "    </tr>\n",
       "  </thead>\n",
       "  <tbody>\n",
       "    <tr>\n",
       "      <th>0</th>\n",
       "      <td>1</td>\n",
       "      <td>Raspalje</td>\n",
       "      <td>2017</td>\n",
       "      <td>POLYGON ((559437.988 6303972.233, 559516.300 6...</td>\n",
       "    </tr>\n",
       "    <tr>\n",
       "      <th>1</th>\n",
       "      <td>2</td>\n",
       "      <td>Soligo</td>\n",
       "      <td>2017</td>\n",
       "      <td>POLYGON ((559453.650 6303798.828, 559421.740 6...</td>\n",
       "    </tr>\n",
       "    <tr>\n",
       "      <th>2</th>\n",
       "      <td>3</td>\n",
       "      <td>Koster</td>\n",
       "      <td>2017</td>\n",
       "      <td>POLYGON ((559393.238 6303793.234, 559383.169 6...</td>\n",
       "    </tr>\n",
       "  </tbody>\n",
       "</table>\n",
       "</div>"
      ],
      "text/plain": [
       "   ID_user    Espece  Annee                                           geometry\n",
       "0        1  Raspalje   2017  POLYGON ((559437.988 6303972.233, 559516.300 6...\n",
       "1        2    Soligo   2017  POLYGON ((559453.650 6303798.828, 559421.740 6...\n",
       "2        3    Koster   2017  POLYGON ((559393.238 6303793.234, 559383.169 6..."
      ]
     },
     "execution_count": 20,
     "metadata": {},
     "output_type": "execute_result"
    }
   ],
   "source": [
    "# Sélectionnér les colonnes à conserver\n",
    "col_dep82_sp = ['ID_user',\n",
    "                'Espece',\n",
    "                'Annee',\n",
    "                'geometry'\n",
    "                ]\n",
    "\n",
    "# Filtrer les colonnes pour garder seulement celles qui sont nécessaires\n",
    "dep82_sp = dep82_sp[col_dep82_sp]\n",
    "\n",
    "# Afficher les colonnes filtrées\n",
    "print(dep82_sp.columns)\n",
    "dep82_sp.head(3)"
   ]
  },
  {
   "cell_type": "markdown",
   "metadata": {},
   "source": [
    "#### **5.2 Renommer les colonnes**"
   ]
  },
  {
   "cell_type": "code",
   "execution_count": 21,
   "metadata": {},
   "outputs": [
    {
     "name": "stdout",
     "output_type": "stream",
     "text": [
      "Colonnes après nettoyage et renommage:\n",
      "Index(['id_82_sp', 'cultivar', 'annee_plan', 'geometry'], dtype='object')\n"
     ]
    }
   ],
   "source": [
    "# Créer un dictionnaire avec les nouveaux noms de colonnes\n",
    "nom_col_dep82_sp = {'ID_user' : 'id_82_sp',\n",
    "                  'Annee' : 'annee_plan',\n",
    "                 'Espece' : 'cultivar'\n",
    "                 }\n",
    "\n",
    "# Renommer les colonnes\n",
    "dep82_sp.rename(columns=nom_col_dep82_sp, inplace=True)\n",
    "\n",
    "# Afficher les nouvelles colonnes pour vérification\n",
    "print(\"Colonnes après nettoyage et renommage:\")\n",
    "print(dep82_sp.columns)"
   ]
  },
  {
   "cell_type": "markdown",
   "metadata": {},
   "source": [
    "#### **5.3 Sélection des parcelles**"
   ]
  },
  {
   "cell_type": "code",
   "execution_count": 22,
   "metadata": {},
   "outputs": [
    {
     "name": "stdout",
     "output_type": "stream",
     "text": [
      "Raspalje\n",
      "Soligo\n",
      "Koster\n",
      "Moncalvo\n",
      "Diva\n",
      "Tucano\n",
      "AF8\n",
      "BIC\n",
      "Eiffel\n",
      "Missouri\n",
      "0685-16\n",
      "27208-16\n",
      "AF13\n",
      "Hoogvorst\n",
      "Dvina\n",
      "Oglio\n",
      "Dender\n",
      "Marke\n",
      "Divers GIS\n",
      "Aleramo\n",
      "San martino\n",
      "Divers\n",
      "Senna\n",
      "Rona et Raspalje\n",
      "San Martino\n",
      "Oglio et Raspalje\n",
      "Rona\n",
      "Moleto\n",
      "Essais Alasia BC\n",
      "Noyer hybride\n",
      "Noyer commun\n",
      "I 214\n",
      "melange\n",
      "Dorskamp\n",
      "Vesten\n",
      "Alcinde\n",
      "Polargo\n",
      "Oudenberg\n",
      "Pannonia\n",
      "Kopecky\n",
      "Lambro\n",
      "Lena\n",
      "Robinier\n",
      "Triplo\n",
      "Imola\n",
      "Taro\n",
      "Dano\n",
      "Delvignac\n",
      "Noyer/robinier\n",
      "Essai\n",
      "Hoogorst\n",
      "Ameramo\n",
      "Sprint\n",
      "Agora\n",
      "Palorn\n",
      "Nikos\n",
      "Turbo\n",
      "700-1\n",
      "1000-1\n",
      "1000-2\n",
      "1000-3\n",
      "1000-4\n",
      "nan\n",
      "Divers 82 19 001\n",
      "Divers 82 18 001\n"
     ]
    }
   ],
   "source": [
    "# Boucle pour afficher les valeurs uniques de la colonne 'cultivars'\n",
    "uniques_dep82_sp = dep82_sp['cultivar'].unique()\n",
    "for unique_82_sp in uniques_dep82_sp:\n",
    "    print(unique_82_sp)"
   ]
  },
  {
   "cell_type": "code",
   "execution_count": 23,
   "metadata": {},
   "outputs": [
    {
     "name": "stdout",
     "output_type": "stream",
     "text": [
      "Nombre total de lignes avant filtrage : 259\n",
      "Nombre de lignes avec un seul cultivar : 237\n",
      "Raspalje\n",
      "Soligo\n",
      "Koster\n",
      "Moncalvo\n",
      "Diva\n",
      "Tucano\n",
      "AF8\n",
      "BIC\n",
      "Eiffel\n",
      "Missouri\n",
      "AF13\n",
      "Hoogvorst\n",
      "Dvina\n",
      "Oglio\n",
      "Dender\n",
      "Marke\n",
      "Aleramo\n",
      "San martino\n",
      "Senna\n",
      "San Martino\n",
      "Rona\n",
      "Moleto\n",
      "Noyer hybride\n",
      "Noyer commun\n",
      "I 214\n",
      "Dorskamp\n",
      "Vesten\n",
      "Alcinde\n",
      "Polargo\n",
      "Oudenberg\n",
      "Pannonia\n",
      "Kopecky\n",
      "Lambro\n",
      "Lena\n",
      "Robinier\n",
      "Triplo\n",
      "Imola\n",
      "Taro\n",
      "Dano\n",
      "Delvignac\n",
      "Hoogorst\n",
      "Ameramo\n",
      "Sprint\n",
      "Agora\n",
      "Palorn\n",
      "Nikos\n",
      "Turbo\n"
     ]
    },
    {
     "data": {
      "text/html": [
       "<div>\n",
       "<style scoped>\n",
       "    .dataframe tbody tr th:only-of-type {\n",
       "        vertical-align: middle;\n",
       "    }\n",
       "\n",
       "    .dataframe tbody tr th {\n",
       "        vertical-align: top;\n",
       "    }\n",
       "\n",
       "    .dataframe thead th {\n",
       "        text-align: right;\n",
       "    }\n",
       "</style>\n",
       "<table border=\"1\" class=\"dataframe\">\n",
       "  <thead>\n",
       "    <tr style=\"text-align: right;\">\n",
       "      <th></th>\n",
       "      <th>id_82_sp</th>\n",
       "      <th>cultivar</th>\n",
       "      <th>annee_plan</th>\n",
       "      <th>geometry</th>\n",
       "    </tr>\n",
       "  </thead>\n",
       "  <tbody>\n",
       "    <tr>\n",
       "      <th>0</th>\n",
       "      <td>1</td>\n",
       "      <td>Raspalje</td>\n",
       "      <td>2017</td>\n",
       "      <td>POLYGON ((559437.988 6303972.233, 559516.300 6...</td>\n",
       "    </tr>\n",
       "    <tr>\n",
       "      <th>1</th>\n",
       "      <td>2</td>\n",
       "      <td>Soligo</td>\n",
       "      <td>2017</td>\n",
       "      <td>POLYGON ((559453.650 6303798.828, 559421.740 6...</td>\n",
       "    </tr>\n",
       "    <tr>\n",
       "      <th>2</th>\n",
       "      <td>3</td>\n",
       "      <td>Koster</td>\n",
       "      <td>2017</td>\n",
       "      <td>POLYGON ((559393.238 6303793.234, 559383.169 6...</td>\n",
       "    </tr>\n",
       "    <tr>\n",
       "      <th>3</th>\n",
       "      <td>4</td>\n",
       "      <td>Moncalvo</td>\n",
       "      <td>2022</td>\n",
       "      <td>POLYGON ((559765.018 6304164.920, 559752.890 6...</td>\n",
       "    </tr>\n",
       "    <tr>\n",
       "      <th>4</th>\n",
       "      <td>5</td>\n",
       "      <td>Diva</td>\n",
       "      <td>2022</td>\n",
       "      <td>POLYGON ((559729.105 6304304.045, 559715.707 6...</td>\n",
       "    </tr>\n",
       "  </tbody>\n",
       "</table>\n",
       "</div>"
      ],
      "text/plain": [
       "   id_82_sp  cultivar  annee_plan  \\\n",
       "0         1  Raspalje        2017   \n",
       "1         2    Soligo        2017   \n",
       "2         3    Koster        2017   \n",
       "3         4  Moncalvo        2022   \n",
       "4         5      Diva        2022   \n",
       "\n",
       "                                            geometry  \n",
       "0  POLYGON ((559437.988 6303972.233, 559516.300 6...  \n",
       "1  POLYGON ((559453.650 6303798.828, 559421.740 6...  \n",
       "2  POLYGON ((559393.238 6303793.234, 559383.169 6...  \n",
       "3  POLYGON ((559765.018 6304164.920, 559752.890 6...  \n",
       "4  POLYGON ((559729.105 6304304.045, 559715.707 6...  "
      ]
     },
     "execution_count": 23,
     "metadata": {},
     "output_type": "execute_result"
    }
   ],
   "source": [
    "# Filtrer les lignes avec un seul cultivar dans la colonne 'cultivar'\n",
    "dep82_sp_cultivar_unique = dep82_sp[dep82_sp['cultivar'].apply(seul_cultivar)]\n",
    "\n",
    "# Affiche les premières lignes pour vérifier le résultat\n",
    "print(\"Nombre total de lignes avant filtrage :\", len(dep82_sp))\n",
    "print(\"Nombre de lignes avec un seul cultivar :\", len(dep82_sp_cultivar_unique))\n",
    "\n",
    "# Boucle pour afficher les valeurs uniques de la colonne 'cultivars'\n",
    "uniques_dep82_sp_single_cultivar = dep82_sp_cultivar_unique['cultivar'].unique()\n",
    "for unique_dep82_sp_single_cultivar in uniques_dep82_sp_single_cultivar:\n",
    "    print(unique_dep82_sp_single_cultivar)\n",
    "    \n",
    "# Afficher les premières lines\n",
    "dep82_sp_cultivar_unique.head()"
   ]
  },
  {
   "cell_type": "markdown",
   "metadata": {},
   "source": [
    "### **6. Nettoyer le dep10**"
   ]
  },
  {
   "cell_type": "code",
   "execution_count": 24,
   "metadata": {},
   "outputs": [
    {
     "name": "stdout",
     "output_type": "stream",
     "text": [
      "Index(['ID', 'Annee', 'd_Peuplem', 'd_essenc_1', 'd_essenc_2', 'geometry'], dtype='object')\n"
     ]
    },
    {
     "data": {
      "text/html": [
       "<div>\n",
       "<style scoped>\n",
       "    .dataframe tbody tr th:only-of-type {\n",
       "        vertical-align: middle;\n",
       "    }\n",
       "\n",
       "    .dataframe tbody tr th {\n",
       "        vertical-align: top;\n",
       "    }\n",
       "\n",
       "    .dataframe thead th {\n",
       "        text-align: right;\n",
       "    }\n",
       "</style>\n",
       "<table border=\"1\" class=\"dataframe\">\n",
       "  <thead>\n",
       "    <tr style=\"text-align: right;\">\n",
       "      <th></th>\n",
       "      <th>ID</th>\n",
       "      <th>Annee</th>\n",
       "      <th>d_Peuplem</th>\n",
       "      <th>d_essenc_1</th>\n",
       "      <th>d_essenc_2</th>\n",
       "      <th>geometry</th>\n",
       "    </tr>\n",
       "  </thead>\n",
       "  <tbody>\n",
       "    <tr>\n",
       "      <th>0</th>\n",
       "      <td>1</td>\n",
       "      <td>2015</td>\n",
       "      <td>Peupleraie</td>\n",
       "      <td>Soligo</td>\n",
       "      <td>NaN</td>\n",
       "      <td>POLYGON ((536321.974 5373586.757, 536461.778 5...</td>\n",
       "    </tr>\n",
       "    <tr>\n",
       "      <th>1</th>\n",
       "      <td>2</td>\n",
       "      <td>2011</td>\n",
       "      <td>Peupleraie</td>\n",
       "      <td>Polargo</td>\n",
       "      <td>NaN</td>\n",
       "      <td>POLYGON ((536441.413 5373956.204, 536404.209 5...</td>\n",
       "    </tr>\n",
       "  </tbody>\n",
       "</table>\n",
       "</div>"
      ],
      "text/plain": [
       "   ID  Annee   d_Peuplem d_essenc_1 d_essenc_2  \\\n",
       "0   1   2015  Peupleraie     Soligo        NaN   \n",
       "1   2   2011  Peupleraie    Polargo        NaN   \n",
       "\n",
       "                                            geometry  \n",
       "0  POLYGON ((536321.974 5373586.757, 536461.778 5...  \n",
       "1  POLYGON ((536441.413 5373956.204, 536404.209 5...  "
      ]
     },
     "execution_count": 24,
     "metadata": {},
     "output_type": "execute_result"
    }
   ],
   "source": [
    "# Faire une copie de la couche de département 10\n",
    "dep10 = dep_10_brut.copy()\n",
    "print(dep10.columns)\n",
    "dep10.head(2)"
   ]
  },
  {
   "cell_type": "markdown",
   "metadata": {},
   "source": [
    "#### **6.1. Sélectionner les colonnes de dep10**"
   ]
  },
  {
   "cell_type": "code",
   "execution_count": 25,
   "metadata": {},
   "outputs": [
    {
     "name": "stdout",
     "output_type": "stream",
     "text": [
      "Index(['ID', 'd_essenc_1', 'Annee', 'geometry'], dtype='object')\n"
     ]
    },
    {
     "data": {
      "text/html": [
       "<div>\n",
       "<style scoped>\n",
       "    .dataframe tbody tr th:only-of-type {\n",
       "        vertical-align: middle;\n",
       "    }\n",
       "\n",
       "    .dataframe tbody tr th {\n",
       "        vertical-align: top;\n",
       "    }\n",
       "\n",
       "    .dataframe thead th {\n",
       "        text-align: right;\n",
       "    }\n",
       "</style>\n",
       "<table border=\"1\" class=\"dataframe\">\n",
       "  <thead>\n",
       "    <tr style=\"text-align: right;\">\n",
       "      <th></th>\n",
       "      <th>ID</th>\n",
       "      <th>d_essenc_1</th>\n",
       "      <th>Annee</th>\n",
       "      <th>geometry</th>\n",
       "    </tr>\n",
       "  </thead>\n",
       "  <tbody>\n",
       "    <tr>\n",
       "      <th>0</th>\n",
       "      <td>1</td>\n",
       "      <td>Soligo</td>\n",
       "      <td>2015</td>\n",
       "      <td>POLYGON ((536321.974 5373586.757, 536461.778 5...</td>\n",
       "    </tr>\n",
       "    <tr>\n",
       "      <th>1</th>\n",
       "      <td>2</td>\n",
       "      <td>Polargo</td>\n",
       "      <td>2011</td>\n",
       "      <td>POLYGON ((536441.413 5373956.204, 536404.209 5...</td>\n",
       "    </tr>\n",
       "    <tr>\n",
       "      <th>2</th>\n",
       "      <td>3</td>\n",
       "      <td>I214</td>\n",
       "      <td>1996</td>\n",
       "      <td>POLYGON ((536724.852 5374336.503, 536739.049 5...</td>\n",
       "    </tr>\n",
       "  </tbody>\n",
       "</table>\n",
       "</div>"
      ],
      "text/plain": [
       "   ID d_essenc_1  Annee                                           geometry\n",
       "0   1     Soligo   2015  POLYGON ((536321.974 5373586.757, 536461.778 5...\n",
       "1   2    Polargo   2011  POLYGON ((536441.413 5373956.204, 536404.209 5...\n",
       "2   3       I214   1996  POLYGON ((536724.852 5374336.503, 536739.049 5..."
      ]
     },
     "execution_count": 25,
     "metadata": {},
     "output_type": "execute_result"
    }
   ],
   "source": [
    "# Sélectionnér les colonnes à conserver\n",
    "col_dep10 = ['ID',\n",
    "                'd_essenc_1',\n",
    "                'Annee',\n",
    "                'geometry'\n",
    "                ]\n",
    "\n",
    "# Filtrer les colonnes pour garder seulement celles qui sont nécessaires\n",
    "dep10 = dep10[col_dep10]\n",
    "\n",
    "# Afficher les colonnes filtrées\n",
    "print(dep10.columns)\n",
    "dep10.head(3)"
   ]
  },
  {
   "cell_type": "markdown",
   "metadata": {},
   "source": [
    "#### **6.2 Renommer les colonnes**"
   ]
  },
  {
   "cell_type": "code",
   "execution_count": 26,
   "metadata": {},
   "outputs": [
    {
     "name": "stdout",
     "output_type": "stream",
     "text": [
      "Colonnes après nettoyage et renommage:\n",
      "Index(['id_10', 'cultivar', 'annee_plan', 'geometry'], dtype='object')\n"
     ]
    }
   ],
   "source": [
    "# Créer un dictionnaire avec les nouveaux noms de colonnes\n",
    "nom_col_dep10 = {'ID' : 'id_10',\n",
    "                  'Annee' : 'annee_plan',\n",
    "                 'd_essenc_1' : 'cultivar'\n",
    "                 }\n",
    "\n",
    "# Renommer les colonnes\n",
    "dep10.rename(columns=nom_col_dep10, inplace=True)\n",
    "\n",
    "# Afficher les nouvelles colonnes pour vérification\n",
    "print(\"Colonnes après nettoyage et renommage:\")\n",
    "print(dep10.columns)"
   ]
  },
  {
   "cell_type": "markdown",
   "metadata": {},
   "source": [
    "#### **6.3 Sélection des parcelles**"
   ]
  },
  {
   "cell_type": "code",
   "execution_count": 27,
   "metadata": {},
   "outputs": [
    {
     "name": "stdout",
     "output_type": "stream",
     "text": [
      "Soligo\n",
      "Polargo\n",
      "I214\n",
      "Koster\n",
      "Boelare\n",
      "nan\n",
      "Rona\n",
      "Fritzy pauley\n",
      "Moncalvo\n",
      "Triplo\n",
      "Flevo\n",
      "Trichobel\n",
      "Albelo\n",
      "A4a\n",
      "Degrosso\n",
      "Vesten\n",
      "Brenta\n",
      "Diva\n"
     ]
    }
   ],
   "source": [
    "# Boucle pour afficher les valeurs uniques de la colonne 'cultivars'\n",
    "uniques_dep10 = dep10['cultivar'].unique()\n",
    "for unique_dep10 in uniques_dep10:\n",
    "    print(unique_dep10)"
   ]
  },
  {
   "cell_type": "code",
   "execution_count": 28,
   "metadata": {},
   "outputs": [
    {
     "name": "stdout",
     "output_type": "stream",
     "text": [
      "Nombre total de lignes avant filtrage : 90\n",
      "Nombre de lignes avec un seul cultivar : 82\n",
      "Soligo\n",
      "Polargo\n",
      "I214\n",
      "Koster\n",
      "Boelare\n",
      "Rona\n",
      "Fritzy pauley\n",
      "Moncalvo\n",
      "Triplo\n",
      "Flevo\n",
      "Trichobel\n",
      "Albelo\n",
      "A4a\n",
      "Degrosso\n",
      "Vesten\n",
      "Brenta\n",
      "Diva\n"
     ]
    },
    {
     "data": {
      "text/html": [
       "<div>\n",
       "<style scoped>\n",
       "    .dataframe tbody tr th:only-of-type {\n",
       "        vertical-align: middle;\n",
       "    }\n",
       "\n",
       "    .dataframe tbody tr th {\n",
       "        vertical-align: top;\n",
       "    }\n",
       "\n",
       "    .dataframe thead th {\n",
       "        text-align: right;\n",
       "    }\n",
       "</style>\n",
       "<table border=\"1\" class=\"dataframe\">\n",
       "  <thead>\n",
       "    <tr style=\"text-align: right;\">\n",
       "      <th></th>\n",
       "      <th>id_10</th>\n",
       "      <th>cultivar</th>\n",
       "      <th>annee_plan</th>\n",
       "      <th>geometry</th>\n",
       "    </tr>\n",
       "  </thead>\n",
       "  <tbody>\n",
       "    <tr>\n",
       "      <th>0</th>\n",
       "      <td>1</td>\n",
       "      <td>Soligo</td>\n",
       "      <td>2015</td>\n",
       "      <td>POLYGON ((536321.974 5373586.757, 536461.778 5...</td>\n",
       "    </tr>\n",
       "    <tr>\n",
       "      <th>1</th>\n",
       "      <td>2</td>\n",
       "      <td>Polargo</td>\n",
       "      <td>2011</td>\n",
       "      <td>POLYGON ((536441.413 5373956.204, 536404.209 5...</td>\n",
       "    </tr>\n",
       "    <tr>\n",
       "      <th>2</th>\n",
       "      <td>3</td>\n",
       "      <td>I214</td>\n",
       "      <td>1996</td>\n",
       "      <td>POLYGON ((536724.852 5374336.503, 536739.049 5...</td>\n",
       "    </tr>\n",
       "    <tr>\n",
       "      <th>3</th>\n",
       "      <td>4</td>\n",
       "      <td>I214</td>\n",
       "      <td>1997</td>\n",
       "      <td>POLYGON ((536019.656 5373695.181, 536023.535 5...</td>\n",
       "    </tr>\n",
       "    <tr>\n",
       "      <th>4</th>\n",
       "      <td>5</td>\n",
       "      <td>I214</td>\n",
       "      <td>2002</td>\n",
       "      <td>POLYGON ((536202.168 5373793.123, 536274.102 5...</td>\n",
       "    </tr>\n",
       "  </tbody>\n",
       "</table>\n",
       "</div>"
      ],
      "text/plain": [
       "   id_10 cultivar  annee_plan  \\\n",
       "0      1   Soligo        2015   \n",
       "1      2  Polargo        2011   \n",
       "2      3     I214        1996   \n",
       "3      4     I214        1997   \n",
       "4      5     I214        2002   \n",
       "\n",
       "                                            geometry  \n",
       "0  POLYGON ((536321.974 5373586.757, 536461.778 5...  \n",
       "1  POLYGON ((536441.413 5373956.204, 536404.209 5...  \n",
       "2  POLYGON ((536724.852 5374336.503, 536739.049 5...  \n",
       "3  POLYGON ((536019.656 5373695.181, 536023.535 5...  \n",
       "4  POLYGON ((536202.168 5373793.123, 536274.102 5...  "
      ]
     },
     "execution_count": 28,
     "metadata": {},
     "output_type": "execute_result"
    }
   ],
   "source": [
    "# Filtrer les lignes avec un seul cultivar dans la colonne 'cultivar'\n",
    "dep10_cultivar_unique = dep10[dep10['cultivar'].apply(seul_cultivar)]\n",
    "\n",
    "# Affiche les premières lignes pour vérifier le résultat\n",
    "print(\"Nombre total de lignes avant filtrage :\", len(dep10))\n",
    "print(\"Nombre de lignes avec un seul cultivar :\", len(dep10_cultivar_unique))\n",
    "\n",
    "# Boucle pour afficher les valeurs uniques de la colonne 'cultivars'\n",
    "uniques_dep10_single_cultivar = dep10_cultivar_unique['cultivar'].unique()\n",
    "for unique_dep10_single_cultivar in uniques_dep10_single_cultivar:\n",
    "    print(unique_dep10_single_cultivar)\n",
    "    \n",
    "# Afficher les premières lines\n",
    "dep10_cultivar_unique.head()"
   ]
  }
 ],
 "metadata": {
  "kernelspec": {
   "display_name": "peuplier",
   "language": "python",
   "name": "python3"
  },
  "language_info": {
   "codemirror_mode": {
    "name": "ipython",
    "version": 3
   },
   "file_extension": ".py",
   "mimetype": "text/x-python",
   "name": "python",
   "nbconvert_exporter": "python",
   "pygments_lexer": "ipython3",
   "version": "3.10.16"
  }
 },
 "nbformat": 4,
 "nbformat_minor": 2
}
